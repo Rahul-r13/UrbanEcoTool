{
 "cells": [
  {
   "cell_type": "markdown",
   "id": "e6c7e4d3-b9ed-4289-85c8-b410edaf198e",
   "metadata": {},
   "source": [
    "# Urban Green Space Analysis and Optimization Tool"
   ]
  },
  {
   "cell_type": "raw",
   "id": "27452033-c26d-4968-88ff-07e5a4b8324d",
   "metadata": {},
   "source": [
    "A Python-based software solution that analyzes urban areas to identify underutilized spaces and optimize them for planting trees, creating parks, or improving biodiversity."
   ]
  },
  {
   "cell_type": "code",
   "execution_count": 2,
   "id": "f18f3c1c-3519-4ab8-9ae9-c29e6f84d760",
   "metadata": {
    "scrolled": true
   },
   "outputs": [
    {
     "name": "stdout",
     "output_type": "stream",
     "text": [
      "Defaulting to user installation because normal site-packages is not writeable\n",
      "Requirement already satisfied: streamlit in c:\\users\\google\\appdata\\roaming\\python\\python312\\site-packages (1.42.0)\n",
      "Requirement already satisfied: altair<6,>=4.0 in c:\\users\\google\\appdata\\roaming\\python\\python312\\site-packages (from streamlit) (5.5.0)\n",
      "Requirement already satisfied: blinker<2,>=1.0.0 in c:\\users\\google\\appdata\\roaming\\python\\python312\\site-packages (from streamlit) (1.9.0)\n",
      "Requirement already satisfied: cachetools<6,>=4.0 in c:\\users\\google\\appdata\\roaming\\python\\python312\\site-packages (from streamlit) (5.5.1)\n",
      "Requirement already satisfied: click<9,>=7.0 in c:\\users\\google\\appdata\\roaming\\python\\python312\\site-packages (from streamlit) (8.1.7)\n",
      "Requirement already satisfied: numpy<3,>=1.23 in c:\\users\\google\\appdata\\roaming\\python\\python312\\site-packages (from streamlit) (2.2.2)\n",
      "Requirement already satisfied: packaging<25,>=20 in c:\\users\\google\\appdata\\roaming\\python\\python312\\site-packages (from streamlit) (24.1)\n",
      "Requirement already satisfied: pandas<3,>=1.4.0 in c:\\users\\google\\appdata\\roaming\\python\\python312\\site-packages (from streamlit) (2.2.3)\n",
      "Requirement already satisfied: pillow<12,>=7.1.0 in c:\\users\\google\\appdata\\roaming\\python\\python312\\site-packages (from streamlit) (11.0.0)\n",
      "Requirement already satisfied: protobuf<6,>=3.20 in c:\\users\\google\\appdata\\roaming\\python\\python312\\site-packages (from streamlit) (5.29.3)\n",
      "Requirement already satisfied: pyarrow>=7.0 in c:\\users\\google\\appdata\\roaming\\python\\python312\\site-packages (from streamlit) (19.0.0)\n",
      "Requirement already satisfied: requests<3,>=2.27 in c:\\users\\google\\appdata\\roaming\\python\\python312\\site-packages (from streamlit) (2.32.3)\n",
      "Requirement already satisfied: rich<14,>=10.14.0 in c:\\users\\google\\appdata\\roaming\\python\\python312\\site-packages (from streamlit) (13.9.2)\n",
      "Requirement already satisfied: tenacity<10,>=8.1.0 in c:\\users\\google\\appdata\\roaming\\python\\python312\\site-packages (from streamlit) (9.0.0)\n",
      "Requirement already satisfied: toml<2,>=0.10.1 in c:\\users\\google\\appdata\\roaming\\python\\python312\\site-packages (from streamlit) (0.10.2)\n",
      "Requirement already satisfied: typing-extensions<5,>=4.4.0 in c:\\users\\google\\appdata\\roaming\\python\\python312\\site-packages (from streamlit) (4.12.2)\n",
      "Requirement already satisfied: watchdog<7,>=2.1.5 in c:\\users\\google\\appdata\\roaming\\python\\python312\\site-packages (from streamlit) (6.0.0)\n",
      "Requirement already satisfied: gitpython!=3.1.19,<4,>=3.0.7 in c:\\users\\google\\appdata\\roaming\\python\\python312\\site-packages (from streamlit) (3.1.44)\n",
      "Requirement already satisfied: pydeck<1,>=0.8.0b4 in c:\\users\\google\\appdata\\roaming\\python\\python312\\site-packages (from streamlit) (0.9.1)\n",
      "Requirement already satisfied: tornado<7,>=6.0.3 in c:\\users\\google\\appdata\\roaming\\python\\python312\\site-packages (from streamlit) (6.4.2)\n",
      "Requirement already satisfied: jinja2 in c:\\users\\google\\appdata\\roaming\\python\\python312\\site-packages (from altair<6,>=4.0->streamlit) (3.1.4)\n",
      "Requirement already satisfied: jsonschema>=3.0 in c:\\users\\google\\appdata\\roaming\\python\\python312\\site-packages (from altair<6,>=4.0->streamlit) (4.23.0)\n",
      "Requirement already satisfied: narwhals>=1.14.2 in c:\\users\\google\\appdata\\roaming\\python\\python312\\site-packages (from altair<6,>=4.0->streamlit) (1.26.0)\n",
      "Requirement already satisfied: colorama in c:\\users\\google\\appdata\\roaming\\python\\python312\\site-packages (from click<9,>=7.0->streamlit) (0.4.6)\n",
      "Requirement already satisfied: gitdb<5,>=4.0.1 in c:\\users\\google\\appdata\\roaming\\python\\python312\\site-packages (from gitpython!=3.1.19,<4,>=3.0.7->streamlit) (4.0.12)\n",
      "Requirement already satisfied: python-dateutil>=2.8.2 in c:\\users\\google\\appdata\\roaming\\python\\python312\\site-packages (from pandas<3,>=1.4.0->streamlit) (2.9.0.post0)\n",
      "Requirement already satisfied: pytz>=2020.1 in c:\\users\\google\\appdata\\roaming\\python\\python312\\site-packages (from pandas<3,>=1.4.0->streamlit) (2024.2)\n",
      "Requirement already satisfied: tzdata>=2022.7 in c:\\users\\google\\appdata\\roaming\\python\\python312\\site-packages (from pandas<3,>=1.4.0->streamlit) (2024.2)\n",
      "Requirement already satisfied: charset-normalizer<4,>=2 in c:\\users\\google\\appdata\\roaming\\python\\python312\\site-packages (from requests<3,>=2.27->streamlit) (3.4.0)\n",
      "Requirement already satisfied: idna<4,>=2.5 in c:\\users\\google\\appdata\\roaming\\python\\python312\\site-packages (from requests<3,>=2.27->streamlit) (3.10)\n",
      "Requirement already satisfied: urllib3<3,>=1.21.1 in c:\\users\\google\\appdata\\roaming\\python\\python312\\site-packages (from requests<3,>=2.27->streamlit) (2.2.3)\n",
      "Requirement already satisfied: certifi>=2017.4.17 in c:\\users\\google\\appdata\\roaming\\python\\python312\\site-packages (from requests<3,>=2.27->streamlit) (2024.8.30)\n",
      "Requirement already satisfied: markdown-it-py>=2.2.0 in c:\\users\\google\\appdata\\roaming\\python\\python312\\site-packages (from rich<14,>=10.14.0->streamlit) (3.0.0)\n",
      "Requirement already satisfied: pygments<3.0.0,>=2.13.0 in c:\\users\\google\\appdata\\roaming\\python\\python312\\site-packages (from rich<14,>=10.14.0->streamlit) (2.18.0)\n",
      "Requirement already satisfied: smmap<6,>=3.0.1 in c:\\users\\google\\appdata\\roaming\\python\\python312\\site-packages (from gitdb<5,>=4.0.1->gitpython!=3.1.19,<4,>=3.0.7->streamlit) (5.0.2)\n",
      "Requirement already satisfied: MarkupSafe>=2.0 in c:\\users\\google\\appdata\\roaming\\python\\python312\\site-packages (from jinja2->altair<6,>=4.0->streamlit) (3.0.2)\n",
      "Requirement already satisfied: attrs>=22.2.0 in c:\\users\\google\\appdata\\roaming\\python\\python312\\site-packages (from jsonschema>=3.0->altair<6,>=4.0->streamlit) (24.3.0)\n",
      "Requirement already satisfied: jsonschema-specifications>=2023.03.6 in c:\\users\\google\\appdata\\roaming\\python\\python312\\site-packages (from jsonschema>=3.0->altair<6,>=4.0->streamlit) (2024.10.1)\n",
      "Requirement already satisfied: referencing>=0.28.4 in c:\\users\\google\\appdata\\roaming\\python\\python312\\site-packages (from jsonschema>=3.0->altair<6,>=4.0->streamlit) (0.35.1)\n",
      "Requirement already satisfied: rpds-py>=0.7.1 in c:\\users\\google\\appdata\\roaming\\python\\python312\\site-packages (from jsonschema>=3.0->altair<6,>=4.0->streamlit) (0.22.3)\n",
      "Requirement already satisfied: mdurl~=0.1 in c:\\users\\google\\appdata\\roaming\\python\\python312\\site-packages (from markdown-it-py>=2.2.0->rich<14,>=10.14.0->streamlit) (0.1.2)\n",
      "Requirement already satisfied: six>=1.5 in c:\\users\\google\\appdata\\roaming\\python\\python312\\site-packages (from python-dateutil>=2.8.2->pandas<3,>=1.4.0->streamlit) (1.16.0)\n",
      "Note: you may need to restart the kernel to use updated packages.\n"
     ]
    }
   ],
   "source": [
    "pip install streamlit"
   ]
  },
  {
   "cell_type": "code",
   "execution_count": 3,
   "id": "06348aef-07ef-453e-966e-27cbb0307915",
   "metadata": {
    "scrolled": true
   },
   "outputs": [],
   "source": [
    "import streamlit as st"
   ]
  },
  {
   "cell_type": "code",
   "execution_count": 4,
   "id": "0deae23d-f28f-45e6-b398-0278cc36a96e",
   "metadata": {
    "scrolled": true
   },
   "outputs": [
    {
     "name": "stdout",
     "output_type": "stream",
     "text": [
      "Requirement already satisfied: osmnx in c:\\users\\google\\appdata\\roaming\\python\\python312\\site-packages (2.0.1)\n",
      "Requirement already satisfied: geopandas in c:\\users\\google\\appdata\\roaming\\python\\python312\\site-packages (1.0.1)\n",
      "Requirement already satisfied: folium in c:\\users\\google\\appdata\\roaming\\python\\python312\\site-packages (0.19.4)\n",
      "Requirement already satisfied: matplotlib in c:\\users\\google\\appdata\\roaming\\python\\python312\\site-packages (3.9.2)\n",
      "Requirement already satisfied: scikit-learn in c:\\users\\google\\appdata\\roaming\\python\\python312\\site-packages (1.6.1)\n",
      "Requirement already satisfied: networkx>=2.5 in c:\\users\\google\\appdata\\roaming\\python\\python312\\site-packages (from osmnx) (3.4.2)\n",
      "Requirement already satisfied: numpy>=1.22 in c:\\users\\google\\appdata\\roaming\\python\\python312\\site-packages (from osmnx) (2.2.2)\n",
      "Requirement already satisfied: pandas>=1.4 in c:\\users\\google\\appdata\\roaming\\python\\python312\\site-packages (from osmnx) (2.2.3)\n",
      "Requirement already satisfied: requests>=2.27 in c:\\users\\google\\appdata\\roaming\\python\\python312\\site-packages (from osmnx) (2.32.3)\n",
      "Requirement already satisfied: shapely>=2.0 in c:\\users\\google\\appdata\\roaming\\python\\python312\\site-packages (from osmnx) (2.0.6)\n",
      "Requirement already satisfied: pyogrio>=0.7.2 in c:\\users\\google\\appdata\\roaming\\python\\python312\\site-packages (from geopandas) (0.10.0)\n",
      "Requirement already satisfied: packaging in c:\\users\\google\\appdata\\roaming\\python\\python312\\site-packages (from geopandas) (24.1)\n",
      "Requirement already satisfied: pyproj>=3.3.0 in c:\\users\\google\\appdata\\roaming\\python\\python312\\site-packages (from geopandas) (3.7.0)\n",
      "Requirement already satisfied: branca>=0.6.0 in c:\\users\\google\\appdata\\roaming\\python\\python312\\site-packages (from folium) (0.8.1)\n",
      "Requirement already satisfied: jinja2>=2.9 in c:\\users\\google\\appdata\\roaming\\python\\python312\\site-packages (from folium) (3.1.4)\n",
      "Requirement already satisfied: xyzservices in c:\\users\\google\\appdata\\roaming\\python\\python312\\site-packages (from folium) (2025.1.0)\n",
      "Requirement already satisfied: contourpy>=1.0.1 in c:\\users\\google\\appdata\\roaming\\python\\python312\\site-packages (from matplotlib) (1.3.0)\n",
      "Requirement already satisfied: cycler>=0.10 in c:\\users\\google\\appdata\\roaming\\python\\python312\\site-packages (from matplotlib) (0.12.1)\n",
      "Requirement already satisfied: fonttools>=4.22.0 in c:\\users\\google\\appdata\\roaming\\python\\python312\\site-packages (from matplotlib) (4.54.1)\n",
      "Requirement already satisfied: kiwisolver>=1.3.1 in c:\\users\\google\\appdata\\roaming\\python\\python312\\site-packages (from matplotlib) (1.4.7)\n",
      "Requirement already satisfied: pillow>=8 in c:\\users\\google\\appdata\\roaming\\python\\python312\\site-packages (from matplotlib) (11.0.0)\n",
      "Requirement already satisfied: pyparsing>=2.3.1 in c:\\users\\google\\appdata\\roaming\\python\\python312\\site-packages (from matplotlib) (3.2.0)\n",
      "Requirement already satisfied: python-dateutil>=2.7 in c:\\users\\google\\appdata\\roaming\\python\\python312\\site-packages (from matplotlib) (2.9.0.post0)\n",
      "Requirement already satisfied: scipy>=1.6.0 in c:\\users\\google\\appdata\\roaming\\python\\python312\\site-packages (from scikit-learn) (1.15.1)\n",
      "Requirement already satisfied: joblib>=1.2.0 in c:\\users\\google\\appdata\\roaming\\python\\python312\\site-packages (from scikit-learn) (1.4.2)\n",
      "Requirement already satisfied: threadpoolctl>=3.1.0 in c:\\users\\google\\appdata\\roaming\\python\\python312\\site-packages (from scikit-learn) (3.5.0)\n",
      "Requirement already satisfied: MarkupSafe>=2.0 in c:\\users\\google\\appdata\\roaming\\python\\python312\\site-packages (from jinja2>=2.9->folium) (3.0.2)\n",
      "Requirement already satisfied: pytz>=2020.1 in c:\\users\\google\\appdata\\roaming\\python\\python312\\site-packages (from pandas>=1.4->osmnx) (2024.2)\n",
      "Requirement already satisfied: tzdata>=2022.7 in c:\\users\\google\\appdata\\roaming\\python\\python312\\site-packages (from pandas>=1.4->osmnx) (2024.2)\n",
      "Requirement already satisfied: certifi in c:\\users\\google\\appdata\\roaming\\python\\python312\\site-packages (from pyogrio>=0.7.2->geopandas) (2024.8.30)\n",
      "Requirement already satisfied: six>=1.5 in c:\\users\\google\\appdata\\roaming\\python\\python312\\site-packages (from python-dateutil>=2.7->matplotlib) (1.16.0)\n",
      "Requirement already satisfied: charset-normalizer<4,>=2 in c:\\users\\google\\appdata\\roaming\\python\\python312\\site-packages (from requests>=2.27->osmnx) (3.4.0)\n",
      "Requirement already satisfied: idna<4,>=2.5 in c:\\users\\google\\appdata\\roaming\\python\\python312\\site-packages (from requests>=2.27->osmnx) (3.10)\n",
      "Requirement already satisfied: urllib3<3,>=1.21.1 in c:\\users\\google\\appdata\\roaming\\python\\python312\\site-packages (from requests>=2.27->osmnx) (2.2.3)\n"
     ]
    }
   ],
   "source": [
    "!pip install osmnx geopandas folium matplotlib scikit-learn"
   ]
  },
  {
   "cell_type": "code",
   "execution_count": 5,
   "id": "00c3a436-c924-4cfa-8602-1f3723cec7eb",
   "metadata": {
    "scrolled": true
   },
   "outputs": [
    {
     "name": "stdout",
     "output_type": "stream",
     "text": [
      "Defaulting to user installation because normal site-packages is not writeable\n",
      "Requirement already satisfied: osmnx in c:\\users\\google\\appdata\\roaming\\python\\python312\\site-packages (2.0.1)\n",
      "Requirement already satisfied: geopandas>=1.0 in c:\\users\\google\\appdata\\roaming\\python\\python312\\site-packages (from osmnx) (1.0.1)\n",
      "Requirement already satisfied: networkx>=2.5 in c:\\users\\google\\appdata\\roaming\\python\\python312\\site-packages (from osmnx) (3.4.2)\n",
      "Requirement already satisfied: numpy>=1.22 in c:\\users\\google\\appdata\\roaming\\python\\python312\\site-packages (from osmnx) (2.2.2)\n",
      "Requirement already satisfied: pandas>=1.4 in c:\\users\\google\\appdata\\roaming\\python\\python312\\site-packages (from osmnx) (2.2.3)\n",
      "Requirement already satisfied: requests>=2.27 in c:\\users\\google\\appdata\\roaming\\python\\python312\\site-packages (from osmnx) (2.32.3)\n",
      "Requirement already satisfied: shapely>=2.0 in c:\\users\\google\\appdata\\roaming\\python\\python312\\site-packages (from osmnx) (2.0.6)\n",
      "Requirement already satisfied: pyogrio>=0.7.2 in c:\\users\\google\\appdata\\roaming\\python\\python312\\site-packages (from geopandas>=1.0->osmnx) (0.10.0)\n",
      "Requirement already satisfied: packaging in c:\\users\\google\\appdata\\roaming\\python\\python312\\site-packages (from geopandas>=1.0->osmnx) (24.1)\n",
      "Requirement already satisfied: pyproj>=3.3.0 in c:\\users\\google\\appdata\\roaming\\python\\python312\\site-packages (from geopandas>=1.0->osmnx) (3.7.0)\n",
      "Requirement already satisfied: python-dateutil>=2.8.2 in c:\\users\\google\\appdata\\roaming\\python\\python312\\site-packages (from pandas>=1.4->osmnx) (2.9.0.post0)\n",
      "Requirement already satisfied: pytz>=2020.1 in c:\\users\\google\\appdata\\roaming\\python\\python312\\site-packages (from pandas>=1.4->osmnx) (2024.2)\n",
      "Requirement already satisfied: tzdata>=2022.7 in c:\\users\\google\\appdata\\roaming\\python\\python312\\site-packages (from pandas>=1.4->osmnx) (2024.2)\n",
      "Requirement already satisfied: charset-normalizer<4,>=2 in c:\\users\\google\\appdata\\roaming\\python\\python312\\site-packages (from requests>=2.27->osmnx) (3.4.0)\n",
      "Requirement already satisfied: idna<4,>=2.5 in c:\\users\\google\\appdata\\roaming\\python\\python312\\site-packages (from requests>=2.27->osmnx) (3.10)\n",
      "Requirement already satisfied: urllib3<3,>=1.21.1 in c:\\users\\google\\appdata\\roaming\\python\\python312\\site-packages (from requests>=2.27->osmnx) (2.2.3)\n",
      "Requirement already satisfied: certifi>=2017.4.17 in c:\\users\\google\\appdata\\roaming\\python\\python312\\site-packages (from requests>=2.27->osmnx) (2024.8.30)\n",
      "Requirement already satisfied: six>=1.5 in c:\\users\\google\\appdata\\roaming\\python\\python312\\site-packages (from python-dateutil>=2.8.2->pandas>=1.4->osmnx) (1.16.0)\n",
      "Note: you may need to restart the kernel to use updated packages.\n"
     ]
    }
   ],
   "source": [
    "pip install osmnx"
   ]
  },
  {
   "cell_type": "code",
   "execution_count": 6,
   "id": "b8fb8e53-8056-4e23-8e30-29eebaeb51f3",
   "metadata": {
    "scrolled": true
   },
   "outputs": [
    {
     "name": "stdout",
     "output_type": "stream",
     "text": [
      "Defaulting to user installation because normal site-packages is not writeable\n",
      "Requirement already satisfied: folium in c:\\users\\google\\appdata\\roaming\\python\\python312\\site-packages (0.19.4)\n",
      "Requirement already satisfied: branca>=0.6.0 in c:\\users\\google\\appdata\\roaming\\python\\python312\\site-packages (from folium) (0.8.1)\n",
      "Requirement already satisfied: jinja2>=2.9 in c:\\users\\google\\appdata\\roaming\\python\\python312\\site-packages (from folium) (3.1.4)\n",
      "Requirement already satisfied: numpy in c:\\users\\google\\appdata\\roaming\\python\\python312\\site-packages (from folium) (2.2.2)\n",
      "Requirement already satisfied: requests in c:\\users\\google\\appdata\\roaming\\python\\python312\\site-packages (from folium) (2.32.3)\n",
      "Requirement already satisfied: xyzservices in c:\\users\\google\\appdata\\roaming\\python\\python312\\site-packages (from folium) (2025.1.0)\n",
      "Requirement already satisfied: MarkupSafe>=2.0 in c:\\users\\google\\appdata\\roaming\\python\\python312\\site-packages (from jinja2>=2.9->folium) (3.0.2)\n",
      "Requirement already satisfied: charset-normalizer<4,>=2 in c:\\users\\google\\appdata\\roaming\\python\\python312\\site-packages (from requests->folium) (3.4.0)\n",
      "Requirement already satisfied: idna<4,>=2.5 in c:\\users\\google\\appdata\\roaming\\python\\python312\\site-packages (from requests->folium) (3.10)\n",
      "Requirement already satisfied: urllib3<3,>=1.21.1 in c:\\users\\google\\appdata\\roaming\\python\\python312\\site-packages (from requests->folium) (2.2.3)\n",
      "Requirement already satisfied: certifi>=2017.4.17 in c:\\users\\google\\appdata\\roaming\\python\\python312\\site-packages (from requests->folium) (2024.8.30)\n",
      "Note: you may need to restart the kernel to use updated packages.\n"
     ]
    }
   ],
   "source": [
    "pip install folium"
   ]
  },
  {
   "cell_type": "code",
   "execution_count": 7,
   "id": "16558296-d194-4ef6-9159-231ee3c13ff4",
   "metadata": {
    "scrolled": true
   },
   "outputs": [
    {
     "name": "stdout",
     "output_type": "stream",
     "text": [
      "Defaulting to user installation because normal site-packages is not writeable\n",
      "Requirement already satisfied: scikit-learn in c:\\users\\google\\appdata\\roaming\\python\\python312\\site-packages (1.6.1)\n",
      "Requirement already satisfied: numpy>=1.19.5 in c:\\users\\google\\appdata\\roaming\\python\\python312\\site-packages (from scikit-learn) (2.2.2)\n",
      "Requirement already satisfied: scipy>=1.6.0 in c:\\users\\google\\appdata\\roaming\\python\\python312\\site-packages (from scikit-learn) (1.15.1)\n",
      "Requirement already satisfied: joblib>=1.2.0 in c:\\users\\google\\appdata\\roaming\\python\\python312\\site-packages (from scikit-learn) (1.4.2)\n",
      "Requirement already satisfied: threadpoolctl>=3.1.0 in c:\\users\\google\\appdata\\roaming\\python\\python312\\site-packages (from scikit-learn) (3.5.0)\n",
      "Note: you may need to restart the kernel to use updated packages.\n"
     ]
    }
   ],
   "source": [
    "pip install scikit-learn"
   ]
  },
  {
   "cell_type": "code",
   "execution_count": 8,
   "id": "8ab3840a-5b5a-4283-9c0f-44cfda9b9adb",
   "metadata": {
    "scrolled": true
   },
   "outputs": [
    {
     "name": "stdout",
     "output_type": "stream",
     "text": [
      "Defaulting to user installation because normal site-packages is not writeable\n",
      "Requirement already satisfied: streamlit-folium in c:\\users\\google\\appdata\\roaming\\python\\python312\\site-packages (0.24.0)\n",
      "Requirement already satisfied: streamlit>=1.35.0 in c:\\users\\google\\appdata\\roaming\\python\\python312\\site-packages (from streamlit-folium) (1.42.0)\n",
      "Requirement already satisfied: folium!=0.15.0,>=0.13 in c:\\users\\google\\appdata\\roaming\\python\\python312\\site-packages (from streamlit-folium) (0.19.4)\n",
      "Requirement already satisfied: jinja2 in c:\\users\\google\\appdata\\roaming\\python\\python312\\site-packages (from streamlit-folium) (3.1.4)\n",
      "Requirement already satisfied: branca in c:\\users\\google\\appdata\\roaming\\python\\python312\\site-packages (from streamlit-folium) (0.8.1)\n",
      "Requirement already satisfied: numpy in c:\\users\\google\\appdata\\roaming\\python\\python312\\site-packages (from folium!=0.15.0,>=0.13->streamlit-folium) (2.2.2)\n",
      "Requirement already satisfied: requests in c:\\users\\google\\appdata\\roaming\\python\\python312\\site-packages (from folium!=0.15.0,>=0.13->streamlit-folium) (2.32.3)\n",
      "Requirement already satisfied: xyzservices in c:\\users\\google\\appdata\\roaming\\python\\python312\\site-packages (from folium!=0.15.0,>=0.13->streamlit-folium) (2025.1.0)\n",
      "Requirement already satisfied: MarkupSafe>=2.0 in c:\\users\\google\\appdata\\roaming\\python\\python312\\site-packages (from jinja2->streamlit-folium) (3.0.2)\n",
      "Requirement already satisfied: altair<6,>=4.0 in c:\\users\\google\\appdata\\roaming\\python\\python312\\site-packages (from streamlit>=1.35.0->streamlit-folium) (5.5.0)\n",
      "Requirement already satisfied: blinker<2,>=1.0.0 in c:\\users\\google\\appdata\\roaming\\python\\python312\\site-packages (from streamlit>=1.35.0->streamlit-folium) (1.9.0)\n",
      "Requirement already satisfied: cachetools<6,>=4.0 in c:\\users\\google\\appdata\\roaming\\python\\python312\\site-packages (from streamlit>=1.35.0->streamlit-folium) (5.5.1)\n",
      "Requirement already satisfied: click<9,>=7.0 in c:\\users\\google\\appdata\\roaming\\python\\python312\\site-packages (from streamlit>=1.35.0->streamlit-folium) (8.1.7)\n",
      "Requirement already satisfied: packaging<25,>=20 in c:\\users\\google\\appdata\\roaming\\python\\python312\\site-packages (from streamlit>=1.35.0->streamlit-folium) (24.1)\n",
      "Requirement already satisfied: pandas<3,>=1.4.0 in c:\\users\\google\\appdata\\roaming\\python\\python312\\site-packages (from streamlit>=1.35.0->streamlit-folium) (2.2.3)\n",
      "Requirement already satisfied: pillow<12,>=7.1.0 in c:\\users\\google\\appdata\\roaming\\python\\python312\\site-packages (from streamlit>=1.35.0->streamlit-folium) (11.0.0)\n",
      "Requirement already satisfied: protobuf<6,>=3.20 in c:\\users\\google\\appdata\\roaming\\python\\python312\\site-packages (from streamlit>=1.35.0->streamlit-folium) (5.29.3)\n",
      "Requirement already satisfied: pyarrow>=7.0 in c:\\users\\google\\appdata\\roaming\\python\\python312\\site-packages (from streamlit>=1.35.0->streamlit-folium) (19.0.0)\n",
      "Requirement already satisfied: rich<14,>=10.14.0 in c:\\users\\google\\appdata\\roaming\\python\\python312\\site-packages (from streamlit>=1.35.0->streamlit-folium) (13.9.2)\n",
      "Requirement already satisfied: tenacity<10,>=8.1.0 in c:\\users\\google\\appdata\\roaming\\python\\python312\\site-packages (from streamlit>=1.35.0->streamlit-folium) (9.0.0)\n",
      "Requirement already satisfied: toml<2,>=0.10.1 in c:\\users\\google\\appdata\\roaming\\python\\python312\\site-packages (from streamlit>=1.35.0->streamlit-folium) (0.10.2)\n",
      "Requirement already satisfied: typing-extensions<5,>=4.4.0 in c:\\users\\google\\appdata\\roaming\\python\\python312\\site-packages (from streamlit>=1.35.0->streamlit-folium) (4.12.2)\n",
      "Requirement already satisfied: watchdog<7,>=2.1.5 in c:\\users\\google\\appdata\\roaming\\python\\python312\\site-packages (from streamlit>=1.35.0->streamlit-folium) (6.0.0)\n",
      "Requirement already satisfied: gitpython!=3.1.19,<4,>=3.0.7 in c:\\users\\google\\appdata\\roaming\\python\\python312\\site-packages (from streamlit>=1.35.0->streamlit-folium) (3.1.44)\n",
      "Requirement already satisfied: pydeck<1,>=0.8.0b4 in c:\\users\\google\\appdata\\roaming\\python\\python312\\site-packages (from streamlit>=1.35.0->streamlit-folium) (0.9.1)\n",
      "Requirement already satisfied: tornado<7,>=6.0.3 in c:\\users\\google\\appdata\\roaming\\python\\python312\\site-packages (from streamlit>=1.35.0->streamlit-folium) (6.4.2)\n",
      "Requirement already satisfied: jsonschema>=3.0 in c:\\users\\google\\appdata\\roaming\\python\\python312\\site-packages (from altair<6,>=4.0->streamlit>=1.35.0->streamlit-folium) (4.23.0)\n",
      "Requirement already satisfied: narwhals>=1.14.2 in c:\\users\\google\\appdata\\roaming\\python\\python312\\site-packages (from altair<6,>=4.0->streamlit>=1.35.0->streamlit-folium) (1.26.0)\n",
      "Requirement already satisfied: colorama in c:\\users\\google\\appdata\\roaming\\python\\python312\\site-packages (from click<9,>=7.0->streamlit>=1.35.0->streamlit-folium) (0.4.6)\n",
      "Requirement already satisfied: gitdb<5,>=4.0.1 in c:\\users\\google\\appdata\\roaming\\python\\python312\\site-packages (from gitpython!=3.1.19,<4,>=3.0.7->streamlit>=1.35.0->streamlit-folium) (4.0.12)\n",
      "Requirement already satisfied: python-dateutil>=2.8.2 in c:\\users\\google\\appdata\\roaming\\python\\python312\\site-packages (from pandas<3,>=1.4.0->streamlit>=1.35.0->streamlit-folium) (2.9.0.post0)\n",
      "Requirement already satisfied: pytz>=2020.1 in c:\\users\\google\\appdata\\roaming\\python\\python312\\site-packages (from pandas<3,>=1.4.0->streamlit>=1.35.0->streamlit-folium) (2024.2)\n",
      "Requirement already satisfied: tzdata>=2022.7 in c:\\users\\google\\appdata\\roaming\\python\\python312\\site-packages (from pandas<3,>=1.4.0->streamlit>=1.35.0->streamlit-folium) (2024.2)\n",
      "Requirement already satisfied: charset-normalizer<4,>=2 in c:\\users\\google\\appdata\\roaming\\python\\python312\\site-packages (from requests->folium!=0.15.0,>=0.13->streamlit-folium) (3.4.0)\n",
      "Requirement already satisfied: idna<4,>=2.5 in c:\\users\\google\\appdata\\roaming\\python\\python312\\site-packages (from requests->folium!=0.15.0,>=0.13->streamlit-folium) (3.10)\n",
      "Requirement already satisfied: urllib3<3,>=1.21.1 in c:\\users\\google\\appdata\\roaming\\python\\python312\\site-packages (from requests->folium!=0.15.0,>=0.13->streamlit-folium) (2.2.3)\n",
      "Requirement already satisfied: certifi>=2017.4.17 in c:\\users\\google\\appdata\\roaming\\python\\python312\\site-packages (from requests->folium!=0.15.0,>=0.13->streamlit-folium) (2024.8.30)\n",
      "Requirement already satisfied: markdown-it-py>=2.2.0 in c:\\users\\google\\appdata\\roaming\\python\\python312\\site-packages (from rich<14,>=10.14.0->streamlit>=1.35.0->streamlit-folium) (3.0.0)\n",
      "Requirement already satisfied: pygments<3.0.0,>=2.13.0 in c:\\users\\google\\appdata\\roaming\\python\\python312\\site-packages (from rich<14,>=10.14.0->streamlit>=1.35.0->streamlit-folium) (2.18.0)\n",
      "Requirement already satisfied: smmap<6,>=3.0.1 in c:\\users\\google\\appdata\\roaming\\python\\python312\\site-packages (from gitdb<5,>=4.0.1->gitpython!=3.1.19,<4,>=3.0.7->streamlit>=1.35.0->streamlit-folium) (5.0.2)\n",
      "Requirement already satisfied: attrs>=22.2.0 in c:\\users\\google\\appdata\\roaming\\python\\python312\\site-packages (from jsonschema>=3.0->altair<6,>=4.0->streamlit>=1.35.0->streamlit-folium) (24.3.0)\n",
      "Requirement already satisfied: jsonschema-specifications>=2023.03.6 in c:\\users\\google\\appdata\\roaming\\python\\python312\\site-packages (from jsonschema>=3.0->altair<6,>=4.0->streamlit>=1.35.0->streamlit-folium) (2024.10.1)\n",
      "Requirement already satisfied: referencing>=0.28.4 in c:\\users\\google\\appdata\\roaming\\python\\python312\\site-packages (from jsonschema>=3.0->altair<6,>=4.0->streamlit>=1.35.0->streamlit-folium) (0.35.1)\n",
      "Requirement already satisfied: rpds-py>=0.7.1 in c:\\users\\google\\appdata\\roaming\\python\\python312\\site-packages (from jsonschema>=3.0->altair<6,>=4.0->streamlit>=1.35.0->streamlit-folium) (0.22.3)\n",
      "Requirement already satisfied: mdurl~=0.1 in c:\\users\\google\\appdata\\roaming\\python\\python312\\site-packages (from markdown-it-py>=2.2.0->rich<14,>=10.14.0->streamlit>=1.35.0->streamlit-folium) (0.1.2)\n",
      "Requirement already satisfied: six>=1.5 in c:\\users\\google\\appdata\\roaming\\python\\python312\\site-packages (from python-dateutil>=2.8.2->pandas<3,>=1.4.0->streamlit>=1.35.0->streamlit-folium) (1.16.0)\n",
      "Note: you may need to restart the kernel to use updated packages.\n"
     ]
    }
   ],
   "source": [
    "pip install streamlit-folium"
   ]
  },
  {
   "cell_type": "code",
   "execution_count": 9,
   "id": "1752da39-8ce4-4f68-a874-fdd5598dcc1f",
   "metadata": {},
   "outputs": [],
   "source": [
    "from shapely.geometry import Polygon"
   ]
  },
  {
   "cell_type": "code",
   "execution_count": 10,
   "id": "1b6966eb-e896-473a-b7a0-db127a1b7152",
   "metadata": {},
   "outputs": [],
   "source": [
    "import warnings\n",
    "warnings.filterwarnings(\"ignore\")"
   ]
  },
  {
   "cell_type": "code",
   "execution_count": 11,
   "id": "beb6b90d-bae0-4435-b308-eaaa8933bb68",
   "metadata": {},
   "outputs": [],
   "source": [
    "import osmnx as ox\n",
    "import geopandas as gpd\n",
    "import pandas as pd\n",
    "import folium\n",
    "from sklearn.linear_model import LinearRegression\n",
    "import matplotlib.pyplot as plt"
   ]
  },
  {
   "cell_type": "code",
   "execution_count": 12,
   "id": "2d9c26db-529e-40cb-9964-eb3872408c69",
   "metadata": {
    "scrolled": true
   },
   "outputs": [
    {
     "name": "stdout",
     "output_type": "stream",
     "text": [
      "Fetching data for Mysuru, India...\n"
     ]
    },
    {
     "name": "stderr",
     "output_type": "stream",
     "text": [
      "2025-02-16 15:24:25.343 INFO    streamlit.dataframe_util: Serialization of dataframe to Arrow table was unsuccessful. Applying automatic fixes for column types to make the dataframe Arrow-compatible.\n",
      "Traceback (most recent call last):\n",
      "  File \"C:\\Users\\Google\\AppData\\Roaming\\Python\\Python312\\site-packages\\streamlit\\dataframe_util.py\", line 814, in convert_pandas_df_to_arrow_bytes\n",
      "    table = pa.Table.from_pandas(df)\n",
      "            ^^^^^^^^^^^^^^^^^^^^^^^^\n",
      "  File \"pyarrow\\\\table.pxi\", line 4751, in pyarrow.lib.Table.from_pandas\n",
      "  File \"C:\\Users\\Google\\AppData\\Roaming\\Python\\Python312\\site-packages\\pyarrow\\pandas_compat.py\", line 639, in dataframe_to_arrays\n",
      "    arrays = [convert_column(c, f)\n",
      "              ^^^^^^^^^^^^^^^^^^^^\n",
      "  File \"C:\\Users\\Google\\AppData\\Roaming\\Python\\Python312\\site-packages\\pyarrow\\pandas_compat.py\", line 626, in convert_column\n",
      "    raise e\n",
      "  File \"C:\\Users\\Google\\AppData\\Roaming\\Python\\Python312\\site-packages\\pyarrow\\pandas_compat.py\", line 620, in convert_column\n",
      "    result = pa.array(col, type=type_, from_pandas=True, safe=safe)\n",
      "             ^^^^^^^^^^^^^^^^^^^^^^^^^^^^^^^^^^^^^^^^^^^^^^^^^^^^^^\n",
      "  File \"pyarrow\\\\array.pxi\", line 362, in pyarrow.lib.array\n",
      "  File \"pyarrow\\\\array.pxi\", line 83, in pyarrow.lib._ndarray_to_array\n",
      "  File \"pyarrow\\\\array.pxi\", line 71, in pyarrow.lib._ndarray_to_type\n",
      "  File \"pyarrow\\\\error.pxi\", line 155, in pyarrow.lib.pyarrow_internal_check_status\n",
      "  File \"pyarrow\\\\error.pxi\", line 92, in pyarrow.lib.check_status\n",
      "pyarrow.lib.ArrowTypeError: ('Did not pass numpy.dtype object', 'Conversion failed for column geometry with type geometry')\n",
      "2025-02-16 15:24:25.373 Thread 'MainThread': missing ScriptRunContext! This warning can be ignored when running in bare mode.\n",
      "2025-02-16 15:24:26.739 \n",
      "  \u001b[33m\u001b[1mWarning:\u001b[0m to view this Streamlit app on a browser, run it with the following\n",
      "  command:\n",
      "\n",
      "    streamlit run C:\\Users\\Google\\AppData\\Roaming\\Python\\Python312\\site-packages\\ipykernel_launcher.py [ARGUMENTS]\n",
      "2025-02-16 15:24:26.740 Thread 'MainThread': missing ScriptRunContext! This warning can be ignored when running in bare mode.\n",
      "2025-02-16 15:24:26.742 Serialization of dataframe to Arrow table was unsuccessful. Applying automatic fixes for column types to make the dataframe Arrow-compatible.\n",
      "Traceback (most recent call last):\n",
      "  File \"C:\\Users\\Google\\AppData\\Roaming\\Python\\Python312\\site-packages\\streamlit\\dataframe_util.py\", line 814, in convert_pandas_df_to_arrow_bytes\n",
      "    table = pa.Table.from_pandas(df)\n",
      "            ^^^^^^^^^^^^^^^^^^^^^^^^\n",
      "  File \"pyarrow\\\\table.pxi\", line 4751, in pyarrow.lib.Table.from_pandas\n",
      "  File \"C:\\Users\\Google\\AppData\\Roaming\\Python\\Python312\\site-packages\\pyarrow\\pandas_compat.py\", line 639, in dataframe_to_arrays\n",
      "    arrays = [convert_column(c, f)\n",
      "              ^^^^^^^^^^^^^^^^^^^^\n",
      "  File \"C:\\Users\\Google\\AppData\\Roaming\\Python\\Python312\\site-packages\\pyarrow\\pandas_compat.py\", line 626, in convert_column\n",
      "    raise e\n",
      "  File \"C:\\Users\\Google\\AppData\\Roaming\\Python\\Python312\\site-packages\\pyarrow\\pandas_compat.py\", line 620, in convert_column\n",
      "    result = pa.array(col, type=type_, from_pandas=True, safe=safe)\n",
      "             ^^^^^^^^^^^^^^^^^^^^^^^^^^^^^^^^^^^^^^^^^^^^^^^^^^^^^^\n",
      "  File \"pyarrow\\\\array.pxi\", line 362, in pyarrow.lib.array\n",
      "  File \"pyarrow\\\\array.pxi\", line 83, in pyarrow.lib._ndarray_to_array\n",
      "  File \"pyarrow\\\\array.pxi\", line 71, in pyarrow.lib._ndarray_to_type\n",
      "  File \"pyarrow\\\\error.pxi\", line 155, in pyarrow.lib.pyarrow_internal_check_status\n",
      "  File \"pyarrow\\\\error.pxi\", line 92, in pyarrow.lib.check_status\n",
      "pyarrow.lib.ArrowTypeError: ('Did not pass numpy.dtype object', 'Conversion failed for column geometry with type geometry')\n",
      "2025-02-16 15:24:26.752 Thread 'MainThread': missing ScriptRunContext! This warning can be ignored when running in bare mode.\n",
      "2025-02-16 15:24:26.754 Thread 'MainThread': missing ScriptRunContext! This warning can be ignored when running in bare mode.\n"
     ]
    }
   ],
   "source": [
    "# Function to fetch urban boundary and green area data\n",
    "def fetch_urban_data(city_name):\n",
    "    import osmnx as ox\n",
    "    print(f\"Fetching data for {city_name}...\")\n",
    "    \n",
    "    # Fetch urban boundary\n",
    "    boundary = ox.geocode_to_gdf(city_name)\n",
    "    \n",
    "    # Fetch all types of green areas suitable for planting trees\n",
    "    green_tags = {\n",
    "        \"leisure\": [\"park\", \"garden\"],\n",
    "        \"landuse\": [ \"grass\", \"meadow\"],\n",
    "        \"natural\": [\"wood\", \"grassland\"]\n",
    "    }\n",
    "    green_areas = ox.features_from_place(city_name, tags=green_tags)\n",
    "    \n",
    "    return boundary, green_areas\n",
    "\n",
    "# Fetch data for a city(Mysuru)\n",
    "city_name = \"Mysuru, India\"\n",
    "boundary, green_areas = fetch_urban_data(city_name)\n",
    "\n",
    "st.write(boundary.head())\n",
    "st.write(green_areas.head())\n"
   ]
  },
  {
   "cell_type": "code",
   "execution_count": 13,
   "id": "bc7c6691-2b86-4160-befd-09d71341b31b",
   "metadata": {},
   "outputs": [
    {
     "name": "stderr",
     "output_type": "stream",
     "text": [
      "2025-02-16 15:24:26.858 Thread 'MainThread': missing ScriptRunContext! This warning can be ignored when running in bare mode.\n",
      "2025-02-16 15:24:26.861 Thread 'MainThread': missing ScriptRunContext! This warning can be ignored when running in bare mode.\n",
      "2025-02-16 15:24:26.862 Thread 'MainThread': missing ScriptRunContext! This warning can be ignored when running in bare mode.\n",
      "2025-02-16 15:24:26.863 Thread 'MainThread': missing ScriptRunContext! This warning can be ignored when running in bare mode.\n",
      "2025-02-16 15:24:26.865 Thread 'MainThread': missing ScriptRunContext! This warning can be ignored when running in bare mode.\n",
      "2025-02-16 15:24:26.866 Thread 'MainThread': missing ScriptRunContext! This warning can be ignored when running in bare mode.\n",
      "2025-02-16 15:24:26.867 Thread 'MainThread': missing ScriptRunContext! This warning can be ignored when running in bare mode.\n",
      "2025-02-16 15:24:26.869 Thread 'MainThread': missing ScriptRunContext! This warning can be ignored when running in bare mode.\n",
      "2025-02-16 15:24:26.870 Thread 'MainThread': missing ScriptRunContext! This warning can be ignored when running in bare mode.\n",
      "2025-02-16 15:24:26.873 Thread 'MainThread': missing ScriptRunContext! This warning can be ignored when running in bare mode.\n",
      "2025-02-16 15:24:26.875 Thread 'MainThread': missing ScriptRunContext! This warning can be ignored when running in bare mode.\n",
      "2025-02-16 15:24:26.877 Thread 'MainThread': missing ScriptRunContext! This warning can be ignored when running in bare mode.\n"
     ]
    }
   ],
   "source": [
    "# Function to calculate green space coverage\n",
    "def analyze_green_space(boundary, green_areas):\n",
    "    green_areas['area_sqm'] = green_areas.geometry.area\n",
    "    total_green_space = green_areas['area_sqm'].sum()\n",
    "    boundary_area = boundary.geometry.area.iloc[0]\n",
    "    coverage_percentage = (total_green_space / boundary_area) * 100\n",
    "    \n",
    "    st.write(f\"Total Green Space: {total_green_space:.2f} sq.m\")\n",
    "    st.write(f\"City Area: {boundary_area:.2f} sq.m\")\n",
    "    st.write(f\"Green Space Coverage: {coverage_percentage:.2f}%\")\n",
    "    \n",
    "    return total_green_space, coverage_percentage\n",
    "\n",
    "# Analyze green space for the city\n",
    "total_green_space, coverage_percentage = analyze_green_space(boundary, green_areas)\n"
   ]
  },
  {
   "cell_type": "code",
   "execution_count": 14,
   "id": "d94b406e-8b54-48c5-a817-bc1c6241559b",
   "metadata": {},
   "outputs": [
    {
     "name": "stderr",
     "output_type": "stream",
     "text": [
      "2025-02-16 15:24:26.932 Thread 'MainThread': missing ScriptRunContext! This warning can be ignored when running in bare mode.\n",
      "2025-02-16 15:24:26.934 Thread 'MainThread': missing ScriptRunContext! This warning can be ignored when running in bare mode.\n",
      "2025-02-16 15:24:26.936 Thread 'MainThread': missing ScriptRunContext! This warning can be ignored when running in bare mode.\n",
      "2025-02-16 15:24:26.939 Thread 'MainThread': missing ScriptRunContext! This warning can be ignored when running in bare mode.\n"
     ]
    }
   ],
   "source": [
    "# Function to predict environmental impact based on green space area\n",
    "def predict_environmental_impact(green_space_areas, temperature_reductions):\n",
    "    model = LinearRegression()\n",
    "    green_space_areas = green_space_areas.values.reshape(-1, 1)\n",
    "    temperature_reductions = temperature_reductions.values\n",
    "    model.fit(green_space_areas, temperature_reductions)\n",
    "    \n",
    "    # Predict impact for 1000 sq.m of green space\n",
    "    predicted_reduction = model.predict([[1000]])[0]\n",
    "    st.write(f\"Predicted Temperature Reduction for 1000 sq.m Green Space: {predicted_reduction:.2f}°C\")\n",
    "    return model\n",
    "\n",
    "# Example data for prediction\n",
    "green_space_data = pd.Series([100, 500, 1000, 1500, 2000])  # Green space areas in sq.m\n",
    "temp_reduction_data = pd.Series([0.1, 0.5, 1.0, 1.5, 2.0])  # Corresponding temperature reductions in °C\n",
    "\n",
    "# Train the model and predict\n",
    "model = predict_environmental_impact(green_space_data, temp_reduction_data)\n"
   ]
  },
  {
   "cell_type": "code",
   "execution_count": 15,
   "id": "18370133-49a5-4489-abc5-d64bde7b0c44",
   "metadata": {},
   "outputs": [
    {
     "name": "stderr",
     "output_type": "stream",
     "text": [
      "2025-02-16 15:24:27.241 Thread 'MainThread': missing ScriptRunContext! This warning can be ignored when running in bare mode.\n",
      "2025-02-16 15:24:27.243 Thread 'MainThread': missing ScriptRunContext! This warning can be ignored when running in bare mode.\n",
      "2025-02-16 15:24:27.243 Thread 'MainThread': missing ScriptRunContext! This warning can be ignored when running in bare mode.\n",
      "2025-02-16 15:24:27.244 Thread 'MainThread': missing ScriptRunContext! This warning can be ignored when running in bare mode.\n"
     ]
    }
   ],
   "source": [
    "from shapely.geometry import Polygon, MultiPolygon\n",
    "\n",
    "# Function to create a map visualization\n",
    "def visualize_data(boundary, green_areas, city_name):\n",
    "    # Create a Folium map centered on the city's boundary centroid\n",
    "    m = folium.Map(\n",
    "        location=[boundary.geometry.centroid.y.iloc[0], boundary.geometry.centroid.x.iloc[0]], \n",
    "        zoom_start=12\n",
    "    )\n",
    "    \n",
    "    # Add green areas to the map\n",
    "    for _, row in green_areas.iterrows():\n",
    "        geometry = row['geometry']\n",
    "        \n",
    "        # Check if the geometry is a Polygon\n",
    "        if isinstance(geometry, Polygon):\n",
    "            folium.Polygon(\n",
    "                locations=[(pt[1], pt[0]) for pt in geometry.exterior.coords],\n",
    "                color='green',\n",
    "                fill=True,\n",
    "                fill_opacity=0.5\n",
    "            ).add_to(m)\n",
    "        \n",
    "        # Check if the geometry is a MultiPolygon\n",
    "        elif isinstance(geometry, MultiPolygon):\n",
    "            for polygon in geometry.geoms:  # Use .geoms to iterate over individual polygons\n",
    "                folium.Polygon(\n",
    "                    locations=[(pt[1], pt[0]) for pt in polygon.exterior.coords],\n",
    "                    color='green',\n",
    "                    fill=True,\n",
    "                    fill_opacity=0.5\n",
    "                ).add_to(m)\n",
    "    \n",
    "    # Save the map as an HTML file\n",
    "    map_file = f\"{city_name.replace(' ', '_')}_green_space_map.html\"\n",
    "    m.save(map_file)\n",
    "    st.write(f\"Map saved as {map_file}\")\n",
    "    return m\n",
    "\n",
    "# Visualize the city's green spaces\n",
    "map_result = visualize_data(boundary, green_areas, city_name)\n"
   ]
  },
  {
   "cell_type": "code",
   "execution_count": 16,
   "id": "a9ac79c3-e339-4566-8d80-859a07b0aac0",
   "metadata": {
    "scrolled": true
   },
   "outputs": [
    {
     "name": "stderr",
     "output_type": "stream",
     "text": [
      "2025-02-16 15:24:27.535 Thread 'MainThread': missing ScriptRunContext! This warning can be ignored when running in bare mode.\n",
      "2025-02-16 15:24:27.537 Thread 'MainThread': missing ScriptRunContext! This warning can be ignored when running in bare mode.\n",
      "2025-02-16 15:24:27.538 Thread 'MainThread': missing ScriptRunContext! This warning can be ignored when running in bare mode.\n",
      "2025-02-16 15:24:27.539 Thread 'MainThread': missing ScriptRunContext! This warning can be ignored when running in bare mode.\n",
      "2025-02-16 15:24:27.541 Thread 'MainThread': missing ScriptRunContext! This warning can be ignored when running in bare mode.\n",
      "2025-02-16 15:24:27.544 Thread 'MainThread': missing ScriptRunContext! This warning can be ignored when running in bare mode.\n",
      "2025-02-16 15:24:27.545 Thread 'MainThread': missing ScriptRunContext! This warning can be ignored when running in bare mode.\n",
      "2025-02-16 15:24:27.546 Session state does not function when running a script without `streamlit run`\n",
      "2025-02-16 15:24:27.547 Thread 'MainThread': missing ScriptRunContext! This warning can be ignored when running in bare mode.\n",
      "2025-02-16 15:24:27.548 Thread 'MainThread': missing ScriptRunContext! This warning can be ignored when running in bare mode.\n",
      "2025-02-16 15:24:27.549 Thread 'MainThread': missing ScriptRunContext! This warning can be ignored when running in bare mode.\n",
      "2025-02-16 15:24:27.550 Thread 'MainThread': missing ScriptRunContext! This warning can be ignored when running in bare mode.\n",
      "2025-02-16 15:24:27.550 Thread 'MainThread': missing ScriptRunContext! This warning can be ignored when running in bare mode.\n",
      "2025-02-16 15:24:27.551 Thread 'MainThread': missing ScriptRunContext! This warning can be ignored when running in bare mode.\n",
      "2025-02-16 15:24:27.553 Thread 'MainThread': missing ScriptRunContext! This warning can be ignored when running in bare mode.\n"
     ]
    }
   ],
   "source": [
    "from streamlit_folium import folium_static\n",
    "\n",
    "# Function to generate map\n",
    "def display_map(city_name):\n",
    "    st.subheader(f\"Map of {city_name}\")\n",
    "    \n",
    "    # Fetch urban boundary\n",
    "    boundary = ox.geocode_to_gdf(city_name)\n",
    "    \n",
    "    # Fetch all types of green areas suitable for planting trees\n",
    "    green_tags = {\n",
    "        \"leisure\": [\"park\", \"garden\"],\n",
    "        \"landuse\": [\"grass\", \"meadow\"],\n",
    "        \"natural\": [\"wood\", \"grassland\"]\n",
    "    }\n",
    "    green_areas = ox.features_from_place(city_name, tags=green_tags)\n",
    "    \n",
    "    # Create folium map\n",
    "    centroid = boundary.geometry.centroid.iloc[0]\n",
    "    m = folium.Map(location=[centroid.y, centroid.x], zoom_start=12)\n",
    "    \n",
    "    # Add urban boundary to map\n",
    "    folium.GeoJson(boundary, name=\"Urban Boundary\", style_function=lambda x: {\"color\": \"blue\"}).add_to(m)\n",
    "    \n",
    "    # Add green areas to map\n",
    "    folium.GeoJson(green_areas, name=\"Green Areas\", style_function=lambda x: {\"color\": \"green\"}).add_to(m)\n",
    "    \n",
    "    # Display map in Streamlit\n",
    "    folium_static(m)\n",
    "\n",
    "# Streamlit UI\n",
    "st.title(\"Urban Eco Tool\")\n",
    "city_name = st.text_input(\"Enter a city name:\", \"Mysuru, India\")\n",
    "\n",
    "if st.button(\"Show Map\"):\n",
    "    display_map(city_name)\n"
   ]
  },
  {
   "cell_type": "raw",
   "id": "fbcd8d05-02c5-4138-9ace-a275bc5a6e91",
   "metadata": {},
   "source": [
    "Coded by Rahul!"
   ]
  }
 ],
 "metadata": {
  "kernelspec": {
   "display_name": "Python 3.12.8",
   "language": "python",
   "name": "python3.12"
  },
  "language_info": {
   "codemirror_mode": {
    "name": "ipython",
    "version": 3
   },
   "file_extension": ".py",
   "mimetype": "text/x-python",
   "name": "python",
   "nbconvert_exporter": "python",
   "pygments_lexer": "ipython3",
   "version": "3.12.8"
  }
 },
 "nbformat": 4,
 "nbformat_minor": 5
}
