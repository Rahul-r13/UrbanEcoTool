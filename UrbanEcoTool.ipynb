{
 "cells": [
  {
   "cell_type": "markdown",
   "id": "e6c7e4d3-b9ed-4289-85c8-b410edaf198e",
   "metadata": {},
   "source": [
    "# Urban Green Space Analysis and Optimization Tool"
   ]
  },
  {
   "cell_type": "raw",
   "id": "27452033-c26d-4968-88ff-07e5a4b8324d",
   "metadata": {},
   "source": [
    "Create a Python-based software solution that analyzes urban areas to identify underutilized spaces and optimize them for planting trees, creating parks, or improving biodiversity."
   ]
  },
  {
   "cell_type": "code",
   "execution_count": 2,
   "id": "f18f3c1c-3519-4ab8-9ae9-c29e6f84d760",
   "metadata": {},
   "outputs": [
    {
     "name": "stdout",
     "output_type": "stream",
     "text": [
      "Requirement already satisfied: osmnx in c:\\users\\google\\appdata\\roaming\\python\\python312\\site-packages (2.0.1)\n",
      "Requirement already satisfied: geopandas in c:\\users\\google\\appdata\\roaming\\python\\python312\\site-packages (1.0.1)\n",
      "Requirement already satisfied: folium in c:\\users\\google\\appdata\\roaming\\python\\python312\\site-packages (0.19.4)\n",
      "Requirement already satisfied: matplotlib in c:\\users\\google\\appdata\\roaming\\python\\python312\\site-packages (3.9.2)\n",
      "Requirement already satisfied: scikit-learn in c:\\users\\google\\appdata\\roaming\\python\\python312\\site-packages (1.6.1)\n",
      "Requirement already satisfied: networkx>=2.5 in c:\\users\\google\\appdata\\roaming\\python\\python312\\site-packages (from osmnx) (3.4.2)\n",
      "Requirement already satisfied: numpy>=1.22 in c:\\users\\google\\appdata\\roaming\\python\\python312\\site-packages (from osmnx) (2.2.2)\n",
      "Requirement already satisfied: pandas>=1.4 in c:\\users\\google\\appdata\\roaming\\python\\python312\\site-packages (from osmnx) (2.2.3)\n",
      "Requirement already satisfied: requests>=2.27 in c:\\users\\google\\appdata\\roaming\\python\\python312\\site-packages (from osmnx) (2.32.3)\n",
      "Requirement already satisfied: shapely>=2.0 in c:\\users\\google\\appdata\\roaming\\python\\python312\\site-packages (from osmnx) (2.0.6)\n",
      "Requirement already satisfied: pyogrio>=0.7.2 in c:\\users\\google\\appdata\\roaming\\python\\python312\\site-packages (from geopandas) (0.10.0)\n",
      "Requirement already satisfied: packaging in c:\\users\\google\\appdata\\roaming\\python\\python312\\site-packages (from geopandas) (24.1)\n",
      "Requirement already satisfied: pyproj>=3.3.0 in c:\\users\\google\\appdata\\roaming\\python\\python312\\site-packages (from geopandas) (3.7.0)\n",
      "Requirement already satisfied: branca>=0.6.0 in c:\\users\\google\\appdata\\roaming\\python\\python312\\site-packages (from folium) (0.8.1)\n",
      "Requirement already satisfied: jinja2>=2.9 in c:\\users\\google\\appdata\\roaming\\python\\python312\\site-packages (from folium) (3.1.4)\n",
      "Requirement already satisfied: xyzservices in c:\\users\\google\\appdata\\roaming\\python\\python312\\site-packages (from folium) (2025.1.0)\n",
      "Requirement already satisfied: contourpy>=1.0.1 in c:\\users\\google\\appdata\\roaming\\python\\python312\\site-packages (from matplotlib) (1.3.0)\n",
      "Requirement already satisfied: cycler>=0.10 in c:\\users\\google\\appdata\\roaming\\python\\python312\\site-packages (from matplotlib) (0.12.1)\n",
      "Requirement already satisfied: fonttools>=4.22.0 in c:\\users\\google\\appdata\\roaming\\python\\python312\\site-packages (from matplotlib) (4.54.1)\n",
      "Requirement already satisfied: kiwisolver>=1.3.1 in c:\\users\\google\\appdata\\roaming\\python\\python312\\site-packages (from matplotlib) (1.4.7)\n",
      "Requirement already satisfied: pillow>=8 in c:\\users\\google\\appdata\\roaming\\python\\python312\\site-packages (from matplotlib) (11.0.0)\n",
      "Requirement already satisfied: pyparsing>=2.3.1 in c:\\users\\google\\appdata\\roaming\\python\\python312\\site-packages (from matplotlib) (3.2.0)\n",
      "Requirement already satisfied: python-dateutil>=2.7 in c:\\users\\google\\appdata\\roaming\\python\\python312\\site-packages (from matplotlib) (2.9.0.post0)\n",
      "Requirement already satisfied: scipy>=1.6.0 in c:\\users\\google\\appdata\\roaming\\python\\python312\\site-packages (from scikit-learn) (1.15.1)\n",
      "Requirement already satisfied: joblib>=1.2.0 in c:\\users\\google\\appdata\\roaming\\python\\python312\\site-packages (from scikit-learn) (1.4.2)\n",
      "Requirement already satisfied: threadpoolctl>=3.1.0 in c:\\users\\google\\appdata\\roaming\\python\\python312\\site-packages (from scikit-learn) (3.5.0)\n",
      "Requirement already satisfied: MarkupSafe>=2.0 in c:\\users\\google\\appdata\\roaming\\python\\python312\\site-packages (from jinja2>=2.9->folium) (3.0.2)\n",
      "Requirement already satisfied: pytz>=2020.1 in c:\\users\\google\\appdata\\roaming\\python\\python312\\site-packages (from pandas>=1.4->osmnx) (2024.2)\n",
      "Requirement already satisfied: tzdata>=2022.7 in c:\\users\\google\\appdata\\roaming\\python\\python312\\site-packages (from pandas>=1.4->osmnx) (2024.2)\n",
      "Requirement already satisfied: certifi in c:\\users\\google\\appdata\\roaming\\python\\python312\\site-packages (from pyogrio>=0.7.2->geopandas) (2024.8.30)\n",
      "Requirement already satisfied: six>=1.5 in c:\\users\\google\\appdata\\roaming\\python\\python312\\site-packages (from python-dateutil>=2.7->matplotlib) (1.16.0)\n",
      "Requirement already satisfied: charset-normalizer<4,>=2 in c:\\users\\google\\appdata\\roaming\\python\\python312\\site-packages (from requests>=2.27->osmnx) (3.4.0)\n",
      "Requirement already satisfied: idna<4,>=2.5 in c:\\users\\google\\appdata\\roaming\\python\\python312\\site-packages (from requests>=2.27->osmnx) (3.10)\n",
      "Requirement already satisfied: urllib3<3,>=1.21.1 in c:\\users\\google\\appdata\\roaming\\python\\python312\\site-packages (from requests>=2.27->osmnx) (2.2.3)\n"
     ]
    }
   ],
   "source": [
    "!pip install osmnx geopandas folium matplotlib scikit-learn"
   ]
  },
  {
   "cell_type": "code",
   "execution_count": 3,
   "id": "00c3a436-c924-4cfa-8602-1f3723cec7eb",
   "metadata": {},
   "outputs": [
    {
     "name": "stdout",
     "output_type": "stream",
     "text": [
      "Defaulting to user installation because normal site-packages is not writeable\n",
      "Requirement already satisfied: osmnx in c:\\users\\google\\appdata\\roaming\\python\\python312\\site-packages (2.0.1)\n",
      "Requirement already satisfied: geopandas>=1.0 in c:\\users\\google\\appdata\\roaming\\python\\python312\\site-packages (from osmnx) (1.0.1)\n",
      "Requirement already satisfied: networkx>=2.5 in c:\\users\\google\\appdata\\roaming\\python\\python312\\site-packages (from osmnx) (3.4.2)\n",
      "Requirement already satisfied: numpy>=1.22 in c:\\users\\google\\appdata\\roaming\\python\\python312\\site-packages (from osmnx) (2.2.2)\n",
      "Requirement already satisfied: pandas>=1.4 in c:\\users\\google\\appdata\\roaming\\python\\python312\\site-packages (from osmnx) (2.2.3)\n",
      "Requirement already satisfied: requests>=2.27 in c:\\users\\google\\appdata\\roaming\\python\\python312\\site-packages (from osmnx) (2.32.3)\n",
      "Requirement already satisfied: shapely>=2.0 in c:\\users\\google\\appdata\\roaming\\python\\python312\\site-packages (from osmnx) (2.0.6)\n",
      "Requirement already satisfied: pyogrio>=0.7.2 in c:\\users\\google\\appdata\\roaming\\python\\python312\\site-packages (from geopandas>=1.0->osmnx) (0.10.0)\n",
      "Requirement already satisfied: packaging in c:\\users\\google\\appdata\\roaming\\python\\python312\\site-packages (from geopandas>=1.0->osmnx) (24.1)\n",
      "Requirement already satisfied: pyproj>=3.3.0 in c:\\users\\google\\appdata\\roaming\\python\\python312\\site-packages (from geopandas>=1.0->osmnx) (3.7.0)\n",
      "Requirement already satisfied: python-dateutil>=2.8.2 in c:\\users\\google\\appdata\\roaming\\python\\python312\\site-packages (from pandas>=1.4->osmnx) (2.9.0.post0)\n",
      "Requirement already satisfied: pytz>=2020.1 in c:\\users\\google\\appdata\\roaming\\python\\python312\\site-packages (from pandas>=1.4->osmnx) (2024.2)\n",
      "Requirement already satisfied: tzdata>=2022.7 in c:\\users\\google\\appdata\\roaming\\python\\python312\\site-packages (from pandas>=1.4->osmnx) (2024.2)\n",
      "Requirement already satisfied: charset-normalizer<4,>=2 in c:\\users\\google\\appdata\\roaming\\python\\python312\\site-packages (from requests>=2.27->osmnx) (3.4.0)\n",
      "Requirement already satisfied: idna<4,>=2.5 in c:\\users\\google\\appdata\\roaming\\python\\python312\\site-packages (from requests>=2.27->osmnx) (3.10)\n",
      "Requirement already satisfied: urllib3<3,>=1.21.1 in c:\\users\\google\\appdata\\roaming\\python\\python312\\site-packages (from requests>=2.27->osmnx) (2.2.3)\n",
      "Requirement already satisfied: certifi>=2017.4.17 in c:\\users\\google\\appdata\\roaming\\python\\python312\\site-packages (from requests>=2.27->osmnx) (2024.8.30)\n",
      "Requirement already satisfied: six>=1.5 in c:\\users\\google\\appdata\\roaming\\python\\python312\\site-packages (from python-dateutil>=2.8.2->pandas>=1.4->osmnx) (1.16.0)\n",
      "Note: you may need to restart the kernel to use updated packages.\n"
     ]
    }
   ],
   "source": [
    "pip install osmnx\n"
   ]
  },
  {
   "cell_type": "code",
   "execution_count": 4,
   "id": "b8fb8e53-8056-4e23-8e30-29eebaeb51f3",
   "metadata": {},
   "outputs": [
    {
     "name": "stdout",
     "output_type": "stream",
     "text": [
      "Defaulting to user installation because normal site-packages is not writeableNote: you may need to restart the kernel to use updated packages.\n",
      "\n",
      "Requirement already satisfied: folium in c:\\users\\google\\appdata\\roaming\\python\\python312\\site-packages (0.19.4)\n",
      "Requirement already satisfied: branca>=0.6.0 in c:\\users\\google\\appdata\\roaming\\python\\python312\\site-packages (from folium) (0.8.1)\n",
      "Requirement already satisfied: jinja2>=2.9 in c:\\users\\google\\appdata\\roaming\\python\\python312\\site-packages (from folium) (3.1.4)\n",
      "Requirement already satisfied: numpy in c:\\users\\google\\appdata\\roaming\\python\\python312\\site-packages (from folium) (2.2.2)\n",
      "Requirement already satisfied: requests in c:\\users\\google\\appdata\\roaming\\python\\python312\\site-packages (from folium) (2.32.3)\n",
      "Requirement already satisfied: xyzservices in c:\\users\\google\\appdata\\roaming\\python\\python312\\site-packages (from folium) (2025.1.0)\n",
      "Requirement already satisfied: MarkupSafe>=2.0 in c:\\users\\google\\appdata\\roaming\\python\\python312\\site-packages (from jinja2>=2.9->folium) (3.0.2)\n",
      "Requirement already satisfied: charset-normalizer<4,>=2 in c:\\users\\google\\appdata\\roaming\\python\\python312\\site-packages (from requests->folium) (3.4.0)\n",
      "Requirement already satisfied: idna<4,>=2.5 in c:\\users\\google\\appdata\\roaming\\python\\python312\\site-packages (from requests->folium) (3.10)\n",
      "Requirement already satisfied: urllib3<3,>=1.21.1 in c:\\users\\google\\appdata\\roaming\\python\\python312\\site-packages (from requests->folium) (2.2.3)\n",
      "Requirement already satisfied: certifi>=2017.4.17 in c:\\users\\google\\appdata\\roaming\\python\\python312\\site-packages (from requests->folium) (2024.8.30)\n"
     ]
    }
   ],
   "source": [
    "pip install folium"
   ]
  },
  {
   "cell_type": "code",
   "execution_count": 5,
   "id": "16558296-d194-4ef6-9159-231ee3c13ff4",
   "metadata": {},
   "outputs": [
    {
     "name": "stdout",
     "output_type": "stream",
     "text": [
      "Defaulting to user installation because normal site-packages is not writeable\n",
      "Requirement already satisfied: scikit-learn in c:\\users\\google\\appdata\\roaming\\python\\python312\\site-packages (1.6.1)\n",
      "Requirement already satisfied: numpy>=1.19.5 in c:\\users\\google\\appdata\\roaming\\python\\python312\\site-packages (from scikit-learn) (2.2.2)\n",
      "Requirement already satisfied: scipy>=1.6.0 in c:\\users\\google\\appdata\\roaming\\python\\python312\\site-packages (from scikit-learn) (1.15.1)\n",
      "Requirement already satisfied: joblib>=1.2.0 in c:\\users\\google\\appdata\\roaming\\python\\python312\\site-packages (from scikit-learn) (1.4.2)\n",
      "Requirement already satisfied: threadpoolctl>=3.1.0 in c:\\users\\google\\appdata\\roaming\\python\\python312\\site-packages (from scikit-learn) (3.5.0)\n",
      "Note: you may need to restart the kernel to use updated packages.\n"
     ]
    }
   ],
   "source": [
    "pip install scikit-learn"
   ]
  },
  {
   "cell_type": "code",
   "execution_count": 6,
   "id": "1752da39-8ce4-4f68-a874-fdd5598dcc1f",
   "metadata": {},
   "outputs": [],
   "source": [
    "from shapely.geometry import Polygon"
   ]
  },
  {
   "cell_type": "code",
   "execution_count": 7,
   "id": "beb6b90d-bae0-4435-b308-eaaa8933bb68",
   "metadata": {},
   "outputs": [],
   "source": [
    "import osmnx as ox\n",
    "import geopandas as gpd\n",
    "import pandas as pd\n",
    "import folium\n",
    "from sklearn.linear_model import LinearRegression\n",
    "import matplotlib.pyplot as plt\n"
   ]
  },
  {
   "cell_type": "code",
   "execution_count": 8,
   "id": "2d9c26db-529e-40cb-9964-eb3872408c69",
   "metadata": {},
   "outputs": [
    {
     "name": "stdout",
     "output_type": "stream",
     "text": [
      "Fetching data for Mysuru, India...\n",
      "                                            geometry  bbox_west  bbox_south  \\\n",
      "0  POLYGON ((75.90868 12.39816, 75.90896 12.39721...   75.90868    11.73801   \n",
      "\n",
      "   bbox_east  bbox_north   place_id  osm_type   osm_id        lat        lon  \\\n",
      "0  77.134284   12.655683  233291732  relation  2020510  12.196832  76.612047   \n",
      "\n",
      "      class            type  place_rank  importance     addresstype    name  \\\n",
      "0  boundary  administrative          10     0.51349  state_district  Mysuru   \n",
      "\n",
      "               display_name  \n",
      "0  Mysuru, Karnataka, India  \n",
      "                                     geometry  \\\n",
      "element id                                      \n",
      "node    2621900848  POINT (76.38829 12.21265)   \n",
      "        4012599895  POINT (76.63293 12.30178)   \n",
      "        8984979753  POINT (76.62513 12.29959)   \n",
      "        8991839276  POINT (76.62501 12.29276)   \n",
      "        9340717203  POINT (76.58452 12.25077)   \n",
      "\n",
      "                                                                 name natural  \\\n",
      "element id                                                                      \n",
      "node    2621900848                                           Saw mill    wood   \n",
      "        4012599895                                       Tengina Topu     NaN   \n",
      "        8984979753                                     Happy Man Park     NaN   \n",
      "        8991839276                                     Kuvempu Statue     NaN   \n",
      "        9340717203  BCEHBC Society Ph-1, Nagarthhalli, Jayapura Ho...     NaN   \n",
      "\n",
      "                   leisure      name:kn      opening_hours     operator  \\\n",
      "element id                                                                \n",
      "node    2621900848     NaN          NaN                NaN          NaN   \n",
      "        4012599895    park  ತೆಂಗಿನ ತೋಪು                NaN          NaN   \n",
      "        8984979753    park          NaN  Mo-Su 09:00-21:00  Municipalty   \n",
      "        8991839276    park          NaN                NaN          NaN   \n",
      "        9340717203    park          NaN                NaN          NaN   \n",
      "\n",
      "                   addr:city addr:district addr:postcode  ... designation  \\\n",
      "element id                                                ...               \n",
      "node    2621900848       NaN           NaN           NaN  ...         NaN   \n",
      "        4012599895       NaN           NaN           NaN  ...         NaN   \n",
      "        8984979753       NaN           NaN           NaN  ...         NaN   \n",
      "        8991839276       NaN           NaN           NaN  ...         NaN   \n",
      "        9340717203       NaN           NaN           NaN  ...         NaN   \n",
      "\n",
      "                   name:en wheelchair wikimedia_commons wikipedia type  \\\n",
      "element id                                                               \n",
      "node    2621900848     NaN        NaN               NaN       NaN  NaN   \n",
      "        4012599895     NaN        NaN               NaN       NaN  NaN   \n",
      "        8984979753     NaN        NaN               NaN       NaN  NaN   \n",
      "        8991839276     NaN        NaN               NaN       NaN  NaN   \n",
      "        9340717203     NaN        NaN               NaN       NaN  NaN   \n",
      "\n",
      "                   alt_name name:mr official_name leaf_cycle  \n",
      "element id                                                    \n",
      "node    2621900848      NaN     NaN           NaN        NaN  \n",
      "        4012599895      NaN     NaN           NaN        NaN  \n",
      "        8984979753      NaN     NaN           NaN        NaN  \n",
      "        8991839276      NaN     NaN           NaN        NaN  \n",
      "        9340717203      NaN     NaN           NaN        NaN  \n",
      "\n",
      "[5 rows x 33 columns]\n"
     ]
    }
   ],
   "source": [
    "# Function to fetch urban boundary and green area data\n",
    "def fetch_urban_data(city_name):\n",
    "    import osmnx as ox\n",
    "    print(f\"Fetching data for {city_name}...\")\n",
    "    \n",
    "    # Fetch urban boundary\n",
    "    boundary = ox.geocode_to_gdf(city_name)\n",
    "    \n",
    "    # Fetch all types of green areas suitable for planting trees\n",
    "    green_tags = {\n",
    "        \"leisure\": [\"park\", \"garden\"],\n",
    "        \"landuse\": [\"forest\", \"grass\", \"meadow\"],\n",
    "        \"natural\": [\"wood\", \"grassland\"]\n",
    "    }\n",
    "    green_areas = ox.features_from_place(city_name, tags=green_tags)\n",
    "    \n",
    "    return boundary, green_areas\n",
    "\n",
    "# Example: Fetch data for a city\n",
    "city_name = \"Mysuru, India\"\n",
    "boundary, green_areas = fetch_urban_data(city_name)\n",
    "\n",
    "# Display data\n",
    "print(boundary.head())\n",
    "print(green_areas.head())\n"
   ]
  },
  {
   "cell_type": "code",
   "execution_count": 9,
   "id": "bc7c6691-2b86-4160-befd-09d71341b31b",
   "metadata": {},
   "outputs": [
    {
     "name": "stdout",
     "output_type": "stream",
     "text": [
      "Total Green Space: 0.36 sq.m\n",
      "City Area: 0.52 sq.m\n",
      "Green Space Coverage: 68.65%\n"
     ]
    },
    {
     "name": "stderr",
     "output_type": "stream",
     "text": [
      "C:\\Users\\Google\\AppData\\Local\\Temp\\ipykernel_150240\\1591048491.py:3: UserWarning: Geometry is in a geographic CRS. Results from 'area' are likely incorrect. Use 'GeoSeries.to_crs()' to re-project geometries to a projected CRS before this operation.\n",
      "\n",
      "  green_areas['area_sqm'] = green_areas.geometry.area\n",
      "C:\\Users\\Google\\AppData\\Local\\Temp\\ipykernel_150240\\1591048491.py:5: UserWarning: Geometry is in a geographic CRS. Results from 'area' are likely incorrect. Use 'GeoSeries.to_crs()' to re-project geometries to a projected CRS before this operation.\n",
      "\n",
      "  boundary_area = boundary.geometry.area.iloc[0]\n"
     ]
    }
   ],
   "source": [
    "# Function to calculate green space coverage\n",
    "def analyze_green_space(boundary, green_areas):\n",
    "    green_areas['area_sqm'] = green_areas.geometry.area\n",
    "    total_green_space = green_areas['area_sqm'].sum()\n",
    "    boundary_area = boundary.geometry.area.iloc[0]\n",
    "    coverage_percentage = (total_green_space / boundary_area) * 100\n",
    "    \n",
    "    print(f\"Total Green Space: {total_green_space:.2f} sq.m\")\n",
    "    print(f\"City Area: {boundary_area:.2f} sq.m\")\n",
    "    print(f\"Green Space Coverage: {coverage_percentage:.2f}%\")\n",
    "    \n",
    "    return total_green_space, coverage_percentage\n",
    "\n",
    "# Analyze green space for the city\n",
    "total_green_space, coverage_percentage = analyze_green_space(boundary, green_areas)\n"
   ]
  },
  {
   "cell_type": "code",
   "execution_count": 10,
   "id": "d94b406e-8b54-48c5-a817-bc1c6241559b",
   "metadata": {},
   "outputs": [
    {
     "name": "stdout",
     "output_type": "stream",
     "text": [
      "Predicted Temperature Reduction for 1000 sq.m Green Space: 1.00°C\n"
     ]
    }
   ],
   "source": [
    "# Function to predict environmental impact based on green space area\n",
    "def predict_environmental_impact(green_space_areas, temperature_reductions):\n",
    "    model = LinearRegression()\n",
    "    green_space_areas = green_space_areas.values.reshape(-1, 1)\n",
    "    temperature_reductions = temperature_reductions.values\n",
    "    model.fit(green_space_areas, temperature_reductions)\n",
    "    \n",
    "    # Predict impact for 1000 sq.m of green space\n",
    "    predicted_reduction = model.predict([[1000]])[0]\n",
    "    print(f\"Predicted Temperature Reduction for 1000 sq.m Green Space: {predicted_reduction:.2f}°C\")\n",
    "    return model\n",
    "\n",
    "# Example data for prediction\n",
    "green_space_data = pd.Series([100, 500, 1000, 1500, 2000])  # Green space areas in sq.m\n",
    "temp_reduction_data = pd.Series([0.1, 0.5, 1.0, 1.5, 2.0])  # Corresponding temperature reductions in °C\n",
    "\n",
    "# Train the model and predict\n",
    "model = predict_environmental_impact(green_space_data, temp_reduction_data)\n"
   ]
  },
  {
   "cell_type": "code",
   "execution_count": 11,
   "id": "18370133-49a5-4489-abc5-d64bde7b0c44",
   "metadata": {},
   "outputs": [
    {
     "name": "stderr",
     "output_type": "stream",
     "text": [
      "C:\\Users\\Google\\AppData\\Local\\Temp\\ipykernel_150240\\2444867427.py:7: UserWarning: Geometry is in a geographic CRS. Results from 'centroid' are likely incorrect. Use 'GeoSeries.to_crs()' to re-project geometries to a projected CRS before this operation.\n",
      "\n",
      "  location=[boundary.geometry.centroid.y.iloc[0], boundary.geometry.centroid.x.iloc[0]],\n"
     ]
    },
    {
     "name": "stdout",
     "output_type": "stream",
     "text": [
      "Map saved as Mysuru,_India_green_space_map.html\n"
     ]
    }
   ],
   "source": [
    "from shapely.geometry import Polygon, MultiPolygon\n",
    "\n",
    "# Function to create a map visualization\n",
    "def visualize_data(boundary, green_areas, city_name):\n",
    "    # Create a Folium map centered on the city's boundary centroid\n",
    "    m = folium.Map(\n",
    "        location=[boundary.geometry.centroid.y.iloc[0], boundary.geometry.centroid.x.iloc[0]], \n",
    "        zoom_start=12\n",
    "    )\n",
    "    \n",
    "    # Add green areas to the map\n",
    "    for _, row in green_areas.iterrows():\n",
    "        geometry = row['geometry']\n",
    "        \n",
    "        # Check if the geometry is a Polygon\n",
    "        if isinstance(geometry, Polygon):\n",
    "            folium.Polygon(\n",
    "                locations=[(pt[1], pt[0]) for pt in geometry.exterior.coords],\n",
    "                color='green',\n",
    "                fill=True,\n",
    "                fill_opacity=0.5\n",
    "            ).add_to(m)\n",
    "        \n",
    "        # Check if the geometry is a MultiPolygon\n",
    "        elif isinstance(geometry, MultiPolygon):\n",
    "            for polygon in geometry.geoms:  # Use .geoms to iterate over individual polygons\n",
    "                folium.Polygon(\n",
    "                    locations=[(pt[1], pt[0]) for pt in polygon.exterior.coords],\n",
    "                    color='green',\n",
    "                    fill=True,\n",
    "                    fill_opacity=0.5\n",
    "                ).add_to(m)\n",
    "    \n",
    "    # Save the map as an HTML file\n",
    "    map_file = f\"{city_name.replace(' ', '_')}_green_space_map.html\"\n",
    "    m.save(map_file)\n",
    "    print(f\"Map saved as {map_file}\")\n",
    "    return m\n",
    "\n",
    "# Visualize the city's green spaces\n",
    "map_result = visualize_data(boundary, green_areas, city_name)\n"
   ]
  },
  {
   "cell_type": "code",
   "execution_count": 12,
   "id": "a9ac79c3-e339-4566-8d80-859a07b0aac0",
   "metadata": {},
   "outputs": [
    {
     "data": {
      "text/html": [
       "\n",
       "        <iframe\n",
       "            width=\"800\"\n",
       "            height=\"600\"\n",
       "            src=\"Mysuru,_India_green_space_map.html\"\n",
       "            frameborder=\"0\"\n",
       "            allowfullscreen\n",
       "            \n",
       "        ></iframe>\n",
       "        "
      ],
      "text/plain": [
       "<IPython.lib.display.IFrame at 0x1f078464710>"
      ]
     },
     "execution_count": 12,
     "metadata": {},
     "output_type": "execute_result"
    }
   ],
   "source": [
    "# Display the map within Jupyter Notebook\n",
    "from IPython.display import IFrame\n",
    "\n",
    "map_file = f\"{city_name.replace(' ', '_')}_green_space_map.html\"\n",
    "IFrame(map_file, width=800, height=600)\n"
   ]
  },
  {
   "cell_type": "code",
   "execution_count": null,
   "id": "570dbff0-d8b5-487d-bd7a-2488ed7c60ae",
   "metadata": {},
   "outputs": [],
   "source": []
  }
 ],
 "metadata": {
  "kernelspec": {
   "display_name": "Python 3.12.8",
   "language": "python",
   "name": "python3.12"
  },
  "language_info": {
   "codemirror_mode": {
    "name": "ipython",
    "version": 3
   },
   "file_extension": ".py",
   "mimetype": "text/x-python",
   "name": "python",
   "nbconvert_exporter": "python",
   "pygments_lexer": "ipython3",
   "version": "3.12.8"
  }
 },
 "nbformat": 4,
 "nbformat_minor": 5
}
