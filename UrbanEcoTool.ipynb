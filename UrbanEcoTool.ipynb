{
 "cells": [
  {
   "cell_type": "markdown",
   "id": "e6c7e4d3-b9ed-4289-85c8-b410edaf198e",
   "metadata": {},
   "source": [
    "# Urban Green Space Analysis and Optimization Tool"
   ]
  },
  {
   "cell_type": "raw",
   "id": "27452033-c26d-4968-88ff-07e5a4b8324d",
   "metadata": {},
   "source": [
    "A Python-based software solution that analyzes urban areas to identify underutilized spaces and optimize them for planting trees, creating parks, or improving biodiversity."
   ]
  },
  {
   "cell_type": "code",
   "execution_count": 2,
   "id": "f18f3c1c-3519-4ab8-9ae9-c29e6f84d760",
   "metadata": {},
   "outputs": [
    {
     "name": "stdout",
     "output_type": "stream",
     "text": [
      "Requirement already satisfied: osmnx in c:\\users\\google\\appdata\\roaming\\python\\python312\\site-packages (2.0.1)\n",
      "Requirement already satisfied: geopandas in c:\\users\\google\\appdata\\roaming\\python\\python312\\site-packages (1.0.1)\n",
      "Requirement already satisfied: folium in c:\\users\\google\\appdata\\roaming\\python\\python312\\site-packages (0.19.4)\n",
      "Requirement already satisfied: matplotlib in c:\\users\\google\\appdata\\roaming\\python\\python312\\site-packages (3.9.2)\n",
      "Requirement already satisfied: scikit-learn in c:\\users\\google\\appdata\\roaming\\python\\python312\\site-packages (1.6.1)\n",
      "Requirement already satisfied: networkx>=2.5 in c:\\users\\google\\appdata\\roaming\\python\\python312\\site-packages (from osmnx) (3.4.2)\n",
      "Requirement already satisfied: numpy>=1.22 in c:\\users\\google\\appdata\\roaming\\python\\python312\\site-packages (from osmnx) (2.2.2)\n",
      "Requirement already satisfied: pandas>=1.4 in c:\\users\\google\\appdata\\roaming\\python\\python312\\site-packages (from osmnx) (2.2.3)\n",
      "Requirement already satisfied: requests>=2.27 in c:\\users\\google\\appdata\\roaming\\python\\python312\\site-packages (from osmnx) (2.32.3)\n",
      "Requirement already satisfied: shapely>=2.0 in c:\\users\\google\\appdata\\roaming\\python\\python312\\site-packages (from osmnx) (2.0.6)\n",
      "Requirement already satisfied: pyogrio>=0.7.2 in c:\\users\\google\\appdata\\roaming\\python\\python312\\site-packages (from geopandas) (0.10.0)\n",
      "Requirement already satisfied: packaging in c:\\users\\google\\appdata\\roaming\\python\\python312\\site-packages (from geopandas) (24.1)\n",
      "Requirement already satisfied: pyproj>=3.3.0 in c:\\users\\google\\appdata\\roaming\\python\\python312\\site-packages (from geopandas) (3.7.0)\n",
      "Requirement already satisfied: branca>=0.6.0 in c:\\users\\google\\appdata\\roaming\\python\\python312\\site-packages (from folium) (0.8.1)\n",
      "Requirement already satisfied: jinja2>=2.9 in c:\\users\\google\\appdata\\roaming\\python\\python312\\site-packages (from folium) (3.1.4)\n",
      "Requirement already satisfied: xyzservices in c:\\users\\google\\appdata\\roaming\\python\\python312\\site-packages (from folium) (2025.1.0)\n",
      "Requirement already satisfied: contourpy>=1.0.1 in c:\\users\\google\\appdata\\roaming\\python\\python312\\site-packages (from matplotlib) (1.3.0)\n",
      "Requirement already satisfied: cycler>=0.10 in c:\\users\\google\\appdata\\roaming\\python\\python312\\site-packages (from matplotlib) (0.12.1)\n",
      "Requirement already satisfied: fonttools>=4.22.0 in c:\\users\\google\\appdata\\roaming\\python\\python312\\site-packages (from matplotlib) (4.54.1)\n",
      "Requirement already satisfied: kiwisolver>=1.3.1 in c:\\users\\google\\appdata\\roaming\\python\\python312\\site-packages (from matplotlib) (1.4.7)\n",
      "Requirement already satisfied: pillow>=8 in c:\\users\\google\\appdata\\roaming\\python\\python312\\site-packages (from matplotlib) (11.0.0)\n",
      "Requirement already satisfied: pyparsing>=2.3.1 in c:\\users\\google\\appdata\\roaming\\python\\python312\\site-packages (from matplotlib) (3.2.0)\n",
      "Requirement already satisfied: python-dateutil>=2.7 in c:\\users\\google\\appdata\\roaming\\python\\python312\\site-packages (from matplotlib) (2.9.0.post0)\n",
      "Requirement already satisfied: scipy>=1.6.0 in c:\\users\\google\\appdata\\roaming\\python\\python312\\site-packages (from scikit-learn) (1.15.1)\n",
      "Requirement already satisfied: joblib>=1.2.0 in c:\\users\\google\\appdata\\roaming\\python\\python312\\site-packages (from scikit-learn) (1.4.2)\n",
      "Requirement already satisfied: threadpoolctl>=3.1.0 in c:\\users\\google\\appdata\\roaming\\python\\python312\\site-packages (from scikit-learn) (3.5.0)\n",
      "Requirement already satisfied: MarkupSafe>=2.0 in c:\\users\\google\\appdata\\roaming\\python\\python312\\site-packages (from jinja2>=2.9->folium) (3.0.2)\n",
      "Requirement already satisfied: pytz>=2020.1 in c:\\users\\google\\appdata\\roaming\\python\\python312\\site-packages (from pandas>=1.4->osmnx) (2024.2)\n",
      "Requirement already satisfied: tzdata>=2022.7 in c:\\users\\google\\appdata\\roaming\\python\\python312\\site-packages (from pandas>=1.4->osmnx) (2024.2)\n",
      "Requirement already satisfied: certifi in c:\\users\\google\\appdata\\roaming\\python\\python312\\site-packages (from pyogrio>=0.7.2->geopandas) (2024.8.30)\n",
      "Requirement already satisfied: six>=1.5 in c:\\users\\google\\appdata\\roaming\\python\\python312\\site-packages (from python-dateutil>=2.7->matplotlib) (1.16.0)\n",
      "Requirement already satisfied: charset-normalizer<4,>=2 in c:\\users\\google\\appdata\\roaming\\python\\python312\\site-packages (from requests>=2.27->osmnx) (3.4.0)\n",
      "Requirement already satisfied: idna<4,>=2.5 in c:\\users\\google\\appdata\\roaming\\python\\python312\\site-packages (from requests>=2.27->osmnx) (3.10)\n",
      "Requirement already satisfied: urllib3<3,>=1.21.1 in c:\\users\\google\\appdata\\roaming\\python\\python312\\site-packages (from requests>=2.27->osmnx) (2.2.3)\n"
     ]
    },
    {
     "name": "stderr",
     "output_type": "stream",
     "text": [
      "\n",
      "[notice] A new release of pip is available: 24.3.1 -> 25.0\n",
      "[notice] To update, run: python.exe -m pip install --upgrade pip\n"
     ]
    }
   ],
   "source": [
    "!pip install osmnx geopandas folium matplotlib scikit-learn"
   ]
  },
  {
   "cell_type": "code",
   "execution_count": 3,
   "id": "00c3a436-c924-4cfa-8602-1f3723cec7eb",
   "metadata": {},
   "outputs": [
    {
     "name": "stdout",
     "output_type": "stream",
     "text": [
      "Defaulting to user installation because normal site-packages is not writeable\n",
      "Requirement already satisfied: osmnx in c:\\users\\google\\appdata\\roaming\\python\\python312\\site-packages (2.0.1)\n",
      "Requirement already satisfied: geopandas>=1.0 in c:\\users\\google\\appdata\\roaming\\python\\python312\\site-packages (from osmnx) (1.0.1)\n",
      "Requirement already satisfied: networkx>=2.5 in c:\\users\\google\\appdata\\roaming\\python\\python312\\site-packages (from osmnx) (3.4.2)\n",
      "Requirement already satisfied: numpy>=1.22 in c:\\users\\google\\appdata\\roaming\\python\\python312\\site-packages (from osmnx) (2.2.2)\n",
      "Requirement already satisfied: pandas>=1.4 in c:\\users\\google\\appdata\\roaming\\python\\python312\\site-packages (from osmnx) (2.2.3)\n",
      "Requirement already satisfied: requests>=2.27 in c:\\users\\google\\appdata\\roaming\\python\\python312\\site-packages (from osmnx) (2.32.3)\n",
      "Requirement already satisfied: shapely>=2.0 in c:\\users\\google\\appdata\\roaming\\python\\python312\\site-packages (from osmnx) (2.0.6)\n",
      "Requirement already satisfied: pyogrio>=0.7.2 in c:\\users\\google\\appdata\\roaming\\python\\python312\\site-packages (from geopandas>=1.0->osmnx) (0.10.0)\n",
      "Requirement already satisfied: packaging in c:\\users\\google\\appdata\\roaming\\python\\python312\\site-packages (from geopandas>=1.0->osmnx) (24.1)\n",
      "Requirement already satisfied: pyproj>=3.3.0 in c:\\users\\google\\appdata\\roaming\\python\\python312\\site-packages (from geopandas>=1.0->osmnx) (3.7.0)\n",
      "Requirement already satisfied: python-dateutil>=2.8.2 in c:\\users\\google\\appdata\\roaming\\python\\python312\\site-packages (from pandas>=1.4->osmnx) (2.9.0.post0)\n",
      "Requirement already satisfied: pytz>=2020.1 in c:\\users\\google\\appdata\\roaming\\python\\python312\\site-packages (from pandas>=1.4->osmnx) (2024.2)\n",
      "Requirement already satisfied: tzdata>=2022.7 in c:\\users\\google\\appdata\\roaming\\python\\python312\\site-packages (from pandas>=1.4->osmnx) (2024.2)\n",
      "Requirement already satisfied: charset-normalizer<4,>=2 in c:\\users\\google\\appdata\\roaming\\python\\python312\\site-packages (from requests>=2.27->osmnx) (3.4.0)\n",
      "Requirement already satisfied: idna<4,>=2.5 in c:\\users\\google\\appdata\\roaming\\python\\python312\\site-packages (from requests>=2.27->osmnx) (3.10)\n",
      "Requirement already satisfied: urllib3<3,>=1.21.1 in c:\\users\\google\\appdata\\roaming\\python\\python312\\site-packages (from requests>=2.27->osmnx) (2.2.3)\n",
      "Requirement already satisfied: certifi>=2017.4.17 in c:\\users\\google\\appdata\\roaming\\python\\python312\\site-packages (from requests>=2.27->osmnx) (2024.8.30)\n",
      "Requirement already satisfied: six>=1.5 in c:\\users\\google\\appdata\\roaming\\python\\python312\\site-packages (from python-dateutil>=2.8.2->pandas>=1.4->osmnx) (1.16.0)\n",
      "Note: you may need to restart the kernel to use updated packages.\n"
     ]
    },
    {
     "name": "stderr",
     "output_type": "stream",
     "text": [
      "\n",
      "[notice] A new release of pip is available: 24.3.1 -> 25.0\n",
      "[notice] To update, run: C:\\Program Files\\Python312\\python.exe -m pip install --upgrade pip\n"
     ]
    }
   ],
   "source": [
    "pip install osmnx"
   ]
  },
  {
   "cell_type": "code",
   "execution_count": 4,
   "id": "b8fb8e53-8056-4e23-8e30-29eebaeb51f3",
   "metadata": {},
   "outputs": [
    {
     "name": "stdout",
     "output_type": "stream",
     "text": [
      "Defaulting to user installation because normal site-packages is not writeable\n",
      "Requirement already satisfied: folium in c:\\users\\google\\appdata\\roaming\\python\\python312\\site-packages (0.19.4)\n",
      "Requirement already satisfied: branca>=0.6.0 in c:\\users\\google\\appdata\\roaming\\python\\python312\\site-packages (from folium) (0.8.1)\n",
      "Requirement already satisfied: jinja2>=2.9 in c:\\users\\google\\appdata\\roaming\\python\\python312\\site-packages (from folium) (3.1.4)\n",
      "Requirement already satisfied: numpy in c:\\users\\google\\appdata\\roaming\\python\\python312\\site-packages (from folium) (2.2.2)\n",
      "Requirement already satisfied: requests in c:\\users\\google\\appdata\\roaming\\python\\python312\\site-packages (from folium) (2.32.3)\n",
      "Requirement already satisfied: xyzservices in c:\\users\\google\\appdata\\roaming\\python\\python312\\site-packages (from folium) (2025.1.0)\n",
      "Requirement already satisfied: MarkupSafe>=2.0 in c:\\users\\google\\appdata\\roaming\\python\\python312\\site-packages (from jinja2>=2.9->folium) (3.0.2)\n",
      "Requirement already satisfied: charset-normalizer<4,>=2 in c:\\users\\google\\appdata\\roaming\\python\\python312\\site-packages (from requests->folium) (3.4.0)\n",
      "Requirement already satisfied: idna<4,>=2.5 in c:\\users\\google\\appdata\\roaming\\python\\python312\\site-packages (from requests->folium) (3.10)\n",
      "Requirement already satisfied: urllib3<3,>=1.21.1 in c:\\users\\google\\appdata\\roaming\\python\\python312\\site-packages (from requests->folium) (2.2.3)\n",
      "Requirement already satisfied: certifi>=2017.4.17 in c:\\users\\google\\appdata\\roaming\\python\\python312\\site-packages (from requests->folium) (2024.8.30)\n",
      "Note: you may need to restart the kernel to use updated packages.\n"
     ]
    },
    {
     "name": "stderr",
     "output_type": "stream",
     "text": [
      "\n",
      "[notice] A new release of pip is available: 24.3.1 -> 25.0\n",
      "[notice] To update, run: C:\\Program Files\\Python312\\python.exe -m pip install --upgrade pip\n"
     ]
    }
   ],
   "source": [
    "pip install folium"
   ]
  },
  {
   "cell_type": "code",
   "execution_count": 5,
   "id": "16558296-d194-4ef6-9159-231ee3c13ff4",
   "metadata": {},
   "outputs": [
    {
     "name": "stdout",
     "output_type": "stream",
     "text": [
      "Defaulting to user installation because normal site-packages is not writeable\n",
      "Requirement already satisfied: scikit-learn in c:\\users\\google\\appdata\\roaming\\python\\python312\\site-packages (1.6.1)\n",
      "Requirement already satisfied: numpy>=1.19.5 in c:\\users\\google\\appdata\\roaming\\python\\python312\\site-packages (from scikit-learn) (2.2.2)\n",
      "Requirement already satisfied: scipy>=1.6.0 in c:\\users\\google\\appdata\\roaming\\python\\python312\\site-packages (from scikit-learn) (1.15.1)\n",
      "Requirement already satisfied: joblib>=1.2.0 in c:\\users\\google\\appdata\\roaming\\python\\python312\\site-packages (from scikit-learn) (1.4.2)\n",
      "Requirement already satisfied: threadpoolctl>=3.1.0 in c:\\users\\google\\appdata\\roaming\\python\\python312\\site-packages (from scikit-learn) (3.5.0)\n",
      "Note: you may need to restart the kernel to use updated packages.\n"
     ]
    },
    {
     "name": "stderr",
     "output_type": "stream",
     "text": [
      "\n",
      "[notice] A new release of pip is available: 24.3.1 -> 25.0\n",
      "[notice] To update, run: C:\\Program Files\\Python312\\python.exe -m pip install --upgrade pip\n"
     ]
    }
   ],
   "source": [
    "pip install scikit-learn"
   ]
  },
  {
   "cell_type": "code",
   "execution_count": 6,
   "id": "1752da39-8ce4-4f68-a874-fdd5598dcc1f",
   "metadata": {},
   "outputs": [],
   "source": [
    "from shapely.geometry import Polygon"
   ]
  },
  {
   "cell_type": "code",
   "execution_count": 7,
   "id": "1b6966eb-e896-473a-b7a0-db127a1b7152",
   "metadata": {},
   "outputs": [],
   "source": [
    "import warnings\n",
    "warnings.filterwarnings(\"ignore\")"
   ]
  },
  {
   "cell_type": "code",
   "execution_count": 8,
   "id": "beb6b90d-bae0-4435-b308-eaaa8933bb68",
   "metadata": {},
   "outputs": [],
   "source": [
    "import osmnx as ox\n",
    "import geopandas as gpd\n",
    "import pandas as pd\n",
    "import folium\n",
    "from sklearn.linear_model import LinearRegression\n",
    "import matplotlib.pyplot as plt"
   ]
  },
  {
   "cell_type": "code",
   "execution_count": 9,
   "id": "2d9c26db-529e-40cb-9964-eb3872408c69",
   "metadata": {},
   "outputs": [
    {
     "name": "stdout",
     "output_type": "stream",
     "text": [
      "Fetching data for Mandya, India...\n",
      "                                            geometry  bbox_west  bbox_south  \\\n",
      "0  MULTIPOLYGON (((76.32956 12.80421, 76.32963 12...  76.329565   12.217912   \n",
      "\n",
      "   bbox_east  bbox_north   place_id  osm_type   osm_id        lat        lon  \\\n",
      "0  77.333804   13.055335  231810137  relation  2020591  12.636894  76.727548   \n",
      "\n",
      "      class            type  place_rank  importance     addresstype    name  \\\n",
      "0  boundary  administrative          10    0.482136  state_district  Mandya   \n",
      "\n",
      "               display_name  \n",
      "0  Mandya, Karnataka, India  \n",
      "                                                              geometry  \\\n",
      "element  id                                                              \n",
      "node     410803782                           POINT (76.57288 12.42139)   \n",
      "         1642087788                           POINT (76.57367 12.4274)   \n",
      "         4641398514                          POINT (76.38116 12.76175)   \n",
      "         6779117311                          POINT (76.89345 12.52311)   \n",
      "relation 2370398     POLYGON ((77.16003 12.30725, 77.15839 12.31162...   \n",
      "\n",
      "                    leisure                   name      name:kn natural  \\\n",
      "element  id                                                               \n",
      "node     410803782   garden          South Gardens          NaN     NaN   \n",
      "         1642087788  garden          North Gardens          NaN     NaN   \n",
      "         4641398514    park         Ashwatha Katte  ಅಶ್ವತ ಕಟ್ಟೆ     NaN   \n",
      "         6779117311    park               Ane park          NaN     NaN   \n",
      "relation 2370398        NaN  Chilandi State Forest          NaN    wood   \n",
      "\n",
      "                    source name:etymology:wikidata landuse addr:city barrier  \\\n",
      "element  id                                                                    \n",
      "node     410803782     NaN                     NaN     NaN       NaN     NaN   \n",
      "         1642087788    NaN                     NaN     NaN       NaN     NaN   \n",
      "         4641398514    NaN                     NaN     NaN       NaN     NaN   \n",
      "         6779117311    NaN                     NaN     NaN       NaN     NaN   \n",
      "relation 2370398       NaN                     NaN     NaN       NaN     NaN   \n",
      "\n",
      "                             type  \n",
      "element  id                        \n",
      "node     410803782            NaN  \n",
      "         1642087788           NaN  \n",
      "         4641398514           NaN  \n",
      "         6779117311           NaN  \n",
      "relation 2370398     multipolygon  \n"
     ]
    }
   ],
   "source": [
    "# Function to fetch urban boundary and green area data\n",
    "def fetch_urban_data(city_name):\n",
    "    import osmnx as ox\n",
    "    print(f\"Fetching data for {city_name}...\")\n",
    "    \n",
    "    # Fetch urban boundary\n",
    "    boundary = ox.geocode_to_gdf(city_name)\n",
    "    \n",
    "    # Fetch all types of green areas suitable for planting trees\n",
    "    green_tags = {\n",
    "        \"leisure\": [\"park\", \"garden\"],\n",
    "        \"landuse\": [ \"grass\", \"meadow\"],\n",
    "        \"natural\": [\"wood\", \"grassland\"]\n",
    "    }\n",
    "    green_areas = ox.features_from_place(city_name, tags=green_tags)\n",
    "    \n",
    "    return boundary, green_areas\n",
    "\n",
    "# Fetch data for a city(Mysuru)\n",
    "city_name = \"Mandya, India\"\n",
    "boundary, green_areas = fetch_urban_data(city_name)\n",
    "\n",
    "print(boundary.head())\n",
    "print(green_areas.head())\n"
   ]
  },
  {
   "cell_type": "code",
   "execution_count": 10,
   "id": "bc7c6691-2b86-4160-befd-09d71341b31b",
   "metadata": {},
   "outputs": [
    {
     "name": "stdout",
     "output_type": "stream",
     "text": [
      "Total Green Space: 0.04 sq.m\n",
      "City Area: 0.41 sq.m\n",
      "Green Space Coverage: 10.00%\n"
     ]
    }
   ],
   "source": [
    "# Function to calculate green space coverage\n",
    "def analyze_green_space(boundary, green_areas):\n",
    "    green_areas['area_sqm'] = green_areas.geometry.area\n",
    "    total_green_space = green_areas['area_sqm'].sum()\n",
    "    boundary_area = boundary.geometry.area.iloc[0]\n",
    "    coverage_percentage = (total_green_space / boundary_area) * 100\n",
    "    \n",
    "    print(f\"Total Green Space: {total_green_space:.2f} sq.m\")\n",
    "    print(f\"City Area: {boundary_area:.2f} sq.m\")\n",
    "    print(f\"Green Space Coverage: {coverage_percentage:.2f}%\")\n",
    "    \n",
    "    return total_green_space, coverage_percentage\n",
    "\n",
    "# Analyze green space for the city\n",
    "total_green_space, coverage_percentage = analyze_green_space(boundary, green_areas)\n"
   ]
  },
  {
   "cell_type": "code",
   "execution_count": 11,
   "id": "d94b406e-8b54-48c5-a817-bc1c6241559b",
   "metadata": {},
   "outputs": [
    {
     "name": "stdout",
     "output_type": "stream",
     "text": [
      "Predicted Temperature Reduction for 1000 sq.m Green Space: 1.00°C\n"
     ]
    }
   ],
   "source": [
    "# Function to predict environmental impact based on green space area\n",
    "def predict_environmental_impact(green_space_areas, temperature_reductions):\n",
    "    model = LinearRegression()\n",
    "    green_space_areas = green_space_areas.values.reshape(-1, 1)\n",
    "    temperature_reductions = temperature_reductions.values\n",
    "    model.fit(green_space_areas, temperature_reductions)\n",
    "    \n",
    "    # Predict impact for 1000 sq.m of green space\n",
    "    predicted_reduction = model.predict([[1000]])[0]\n",
    "    print(f\"Predicted Temperature Reduction for 1000 sq.m Green Space: {predicted_reduction:.2f}°C\")\n",
    "    return model\n",
    "\n",
    "# Example data for prediction\n",
    "green_space_data = pd.Series([100, 500, 1000, 1500, 2000])  # Green space areas in sq.m\n",
    "temp_reduction_data = pd.Series([0.1, 0.5, 1.0, 1.5, 2.0])  # Corresponding temperature reductions in °C\n",
    "\n",
    "# Train the model and predict\n",
    "model = predict_environmental_impact(green_space_data, temp_reduction_data)\n"
   ]
  },
  {
   "cell_type": "code",
   "execution_count": 12,
   "id": "18370133-49a5-4489-abc5-d64bde7b0c44",
   "metadata": {},
   "outputs": [
    {
     "name": "stdout",
     "output_type": "stream",
     "text": [
      "Map saved as Mandya,_India_green_space_map.html\n"
     ]
    }
   ],
   "source": [
    "from shapely.geometry import Polygon, MultiPolygon\n",
    "\n",
    "# Function to create a map visualization\n",
    "def visualize_data(boundary, green_areas, city_name):\n",
    "    # Create a Folium map centered on the city's boundary centroid\n",
    "    m = folium.Map(\n",
    "        location=[boundary.geometry.centroid.y.iloc[0], boundary.geometry.centroid.x.iloc[0]], \n",
    "        zoom_start=12\n",
    "    )\n",
    "    \n",
    "    # Add green areas to the map\n",
    "    for _, row in green_areas.iterrows():\n",
    "        geometry = row['geometry']\n",
    "        \n",
    "        # Check if the geometry is a Polygon\n",
    "        if isinstance(geometry, Polygon):\n",
    "            folium.Polygon(\n",
    "                locations=[(pt[1], pt[0]) for pt in geometry.exterior.coords],\n",
    "                color='green',\n",
    "                fill=True,\n",
    "                fill_opacity=0.5\n",
    "            ).add_to(m)\n",
    "        \n",
    "        # Check if the geometry is a MultiPolygon\n",
    "        elif isinstance(geometry, MultiPolygon):\n",
    "            for polygon in geometry.geoms:  # Use .geoms to iterate over individual polygons\n",
    "                folium.Polygon(\n",
    "                    locations=[(pt[1], pt[0]) for pt in polygon.exterior.coords],\n",
    "                    color='green',\n",
    "                    fill=True,\n",
    "                    fill_opacity=0.5\n",
    "                ).add_to(m)\n",
    "    \n",
    "    # Save the map as an HTML file\n",
    "    map_file = f\"{city_name.replace(' ', '_')}_green_space_map.html\"\n",
    "    m.save(map_file)\n",
    "    print(f\"Map saved as {map_file}\")\n",
    "    return m\n",
    "\n",
    "# Visualize the city's green spaces\n",
    "map_result = visualize_data(boundary, green_areas, city_name)\n"
   ]
  },
  {
   "cell_type": "code",
   "execution_count": 13,
   "id": "a9ac79c3-e339-4566-8d80-859a07b0aac0",
   "metadata": {},
   "outputs": [
    {
     "data": {
      "text/html": [
       "\n",
       "        <iframe\n",
       "            width=\"800\"\n",
       "            height=\"600\"\n",
       "            src=\"Mandya,_India_green_space_map.html\"\n",
       "            frameborder=\"0\"\n",
       "            allowfullscreen\n",
       "            \n",
       "        ></iframe>\n",
       "        "
      ],
      "text/plain": [
       "<IPython.lib.display.IFrame at 0x1f4b5d60ad0>"
      ]
     },
     "execution_count": 13,
     "metadata": {},
     "output_type": "execute_result"
    }
   ],
   "source": [
    "# Display the map within Jupyter Notebook\n",
    "from IPython.display import IFrame\n",
    "\n",
    "map_file = f\"{city_name.replace(' ', '_')}_green_space_map.html\"\n",
    "IFrame(map_file, width=800, height=600)\n"
   ]
  },
  {
   "cell_type": "raw",
   "id": "fbcd8d05-02c5-4138-9ace-a275bc5a6e91",
   "metadata": {},
   "source": [
    "Coded by Rahul!"
   ]
  }
 ],
 "metadata": {
  "kernelspec": {
   "display_name": "Python 3.12.8",
   "language": "python",
   "name": "python3.12"
  },
  "language_info": {
   "codemirror_mode": {
    "name": "ipython",
    "version": 3
   },
   "file_extension": ".py",
   "mimetype": "text/x-python",
   "name": "python",
   "nbconvert_exporter": "python",
   "pygments_lexer": "ipython3",
   "version": "3.12.8"
  }
 },
 "nbformat": 4,
 "nbformat_minor": 5
}
